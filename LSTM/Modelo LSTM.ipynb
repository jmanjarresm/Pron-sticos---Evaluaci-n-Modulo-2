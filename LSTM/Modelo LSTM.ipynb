{
 "cells": [
  {
   "cell_type": "markdown",
   "metadata": {},
   "source": [
    "## Modelo LSTM\n",
    "\n",
    "Se procede a realizar los procedimientos necesarios para aplicar el modelo LSTM"
   ]
  },
  {
   "cell_type": "code",
   "execution_count": 54,
   "metadata": {},
   "outputs": [],
   "source": [
    "## Se importan las librerias necesarias\n",
    "import pandas as pd\n",
    "import numpy as np\n",
    "import keras\n",
    "import tensorflow as tf\n",
    "import plotly.graph_objs as go\n",
    "\n",
    "# univariate one step problem with lstm\n",
    "from numpy import array\n",
    "from keras.models import Sequential\n",
    "from keras.layers import Dense\n",
    "from keras.layers import LSTM\n",
    "#from keras.preprocessing.sequence import TimeseriesGenerator \n",
    "from tensorflow.keras.preprocessing.sequence import TimeseriesGenerator \n",
    "import pandas\n",
    "from pandas_datareader import data as pdr\n",
    "import yfinance as yfin\n",
    "yfin.pdr_override()\n",
    "#Diable the warnings\n",
    "import warnings\n",
    "warnings.filterwarnings('ignore')\n",
    "from keras.models import Sequential\n",
    "from keras.layers import LSTM, Dense\n",
    "import pandas as pd\n",
    "import plotly.graph_objects as go"
   ]
  },
  {
   "cell_type": "markdown",
   "metadata": {},
   "source": [
    "### Carga de los Datos"
   ]
  },
  {
   "cell_type": "code",
   "execution_count": 55,
   "metadata": {},
   "outputs": [],
   "source": [
    "## Se definen la fecha de inicio y fin de acuerdo con lo establecido en la Evaluación del Modulo Parte 2\n",
    "start = '2016-05-01'\n",
    "end = '2018-01-28'"
   ]
  },
  {
   "cell_type": "code",
   "execution_count": 56,
   "metadata": {},
   "outputs": [
    {
     "name": "stdout",
     "output_type": "stream",
     "text": [
      "[*********************100%***********************]  1 of 1 completed\n"
     ]
    }
   ],
   "source": [
    "## Se trae la información\n",
    "META = pdr.get_data_yahoo(\"META\", start, end)['Close']"
   ]
  },
  {
   "cell_type": "code",
   "execution_count": 57,
   "metadata": {},
   "outputs": [
    {
     "data": {
      "text/plain": [
       "Date\n",
       "2016-05-02    118.570000\n",
       "2016-05-03    117.430000\n",
       "2016-05-04    118.059998\n",
       "2016-05-05    117.809998\n",
       "2016-05-06    119.489998\n",
       "Name: Close, dtype: float64"
      ]
     },
     "execution_count": 57,
     "metadata": {},
     "output_type": "execute_result"
    }
   ],
   "source": [
    "## Se verifican los datos\n",
    "META.head()"
   ]
  },
  {
   "cell_type": "code",
   "execution_count": 58,
   "metadata": {},
   "outputs": [
    {
     "data": {
      "text/html": [
       "<div>\n",
       "<style scoped>\n",
       "    .dataframe tbody tr th:only-of-type {\n",
       "        vertical-align: middle;\n",
       "    }\n",
       "\n",
       "    .dataframe tbody tr th {\n",
       "        vertical-align: top;\n",
       "    }\n",
       "\n",
       "    .dataframe thead th {\n",
       "        text-align: right;\n",
       "    }\n",
       "</style>\n",
       "<table border=\"1\" class=\"dataframe\">\n",
       "  <thead>\n",
       "    <tr style=\"text-align: right;\">\n",
       "      <th></th>\n",
       "      <th>Close</th>\n",
       "    </tr>\n",
       "    <tr>\n",
       "      <th>Date</th>\n",
       "      <th></th>\n",
       "    </tr>\n",
       "  </thead>\n",
       "  <tbody>\n",
       "    <tr>\n",
       "      <th>2016-05-02</th>\n",
       "      <td>118.570000</td>\n",
       "    </tr>\n",
       "    <tr>\n",
       "      <th>2016-05-03</th>\n",
       "      <td>117.430000</td>\n",
       "    </tr>\n",
       "    <tr>\n",
       "      <th>2016-05-04</th>\n",
       "      <td>118.059998</td>\n",
       "    </tr>\n",
       "    <tr>\n",
       "      <th>2016-05-05</th>\n",
       "      <td>117.809998</td>\n",
       "    </tr>\n",
       "    <tr>\n",
       "      <th>2016-05-06</th>\n",
       "      <td>119.489998</td>\n",
       "    </tr>\n",
       "  </tbody>\n",
       "</table>\n",
       "</div>"
      ],
      "text/plain": [
       "                 Close\n",
       "Date                  \n",
       "2016-05-02  118.570000\n",
       "2016-05-03  117.430000\n",
       "2016-05-04  118.059998\n",
       "2016-05-05  117.809998\n",
       "2016-05-06  119.489998"
      ]
     },
     "execution_count": 58,
     "metadata": {},
     "output_type": "execute_result"
    }
   ],
   "source": [
    "## Se pasan los datos a un dataframe\n",
    "dt= pandas.DataFrame(META)\n",
    "dt.head()"
   ]
  },
  {
   "cell_type": "code",
   "execution_count": 59,
   "metadata": {},
   "outputs": [
    {
     "data": {
      "text/plain": [
       "439"
      ]
     },
     "execution_count": 59,
     "metadata": {},
     "output_type": "execute_result"
    }
   ],
   "source": [
    "## Se verifica la longitud de la serie de datos\n",
    "len(dt)"
   ]
  },
  {
   "cell_type": "code",
   "execution_count": 60,
   "metadata": {},
   "outputs": [
    {
     "data": {
      "text/plain": [
       "[<matplotlib.lines.Line2D at 0x1acdf760730>]"
      ]
     },
     "execution_count": 60,
     "metadata": {},
     "output_type": "execute_result"
    },
    {
     "data": {
      "image/png": "[encoded data removed]",
      "text/plain": [
       "<Figure size 1000x600 with 1 Axes>"
      ]
     },
     "metadata": {},
     "output_type": "display_data"
    }
   ],
   "source": [
    "## Se grafica la serie \n",
    "#Una vez llamada la librería, graficamos la serie dt.\n",
    "import matplotlib.pyplot as plt\n",
    "plt.figure(figsize=(10, 6))\n",
    "plt.plot(dt)"
   ]
  },
  {
   "cell_type": "markdown",
   "metadata": {},
   "source": [
    "### Preprocesamiento de los datos\n",
    "\n",
    "En acorde con lo aprendido en los tutoriales se procede a procesar los datos para que puedan ser utilziados en LSTM"
   ]
  },
  {
   "cell_type": "code",
   "execution_count": 61,
   "metadata": {},
   "outputs": [
    {
     "data": {
      "text/plain": [
       "DatetimeIndex(['2016-05-02', '2016-05-03', '2016-05-04', '2016-05-05',\n",
       "               '2016-05-06', '2016-05-09', '2016-05-10', '2016-05-11',\n",
       "               '2016-05-12', '2016-05-13',\n",
       "               ...\n",
       "               '2018-01-12', '2018-01-16', '2018-01-17', '2018-01-18',\n",
       "               '2018-01-19', '2018-01-22', '2018-01-23', '2018-01-24',\n",
       "               '2018-01-25', '2018-01-26'],\n",
       "              dtype='datetime64[ns]', name='Date', length=439, freq=None)"
      ]
     },
     "execution_count": 61,
     "metadata": {},
     "output_type": "execute_result"
    }
   ],
   "source": [
    "#Se pasa el data frame a un objeto de tiempo de pandas.\n",
    "dataindex= pd.to_datetime(dt.index)\n",
    "dataindex"
   ]
  },
  {
   "cell_type": "code",
   "execution_count": 62,
   "metadata": {},
   "outputs": [
    {
     "data": {
      "text/plain": [
       "array([118.56999969, 117.43000031, 118.05999756, 117.80999756,\n",
       "       119.48999786, 119.23999786, 120.5       , 119.51999664,\n",
       "       120.27999878, 119.80999756, 118.66999817, 117.34999847,\n",
       "       117.65000153, 116.80999756, 117.34999847, 115.97000122,\n",
       "       117.69999695, 117.88999939, 119.47000122, 119.37999725,\n",
       "       118.80999756, 118.77999878, 118.93000031, 118.47000122,\n",
       "       118.79000092, 117.76000214, 118.38999939, 118.55999756,\n",
       "       116.62000275, 113.94999695, 114.94000244, 114.59999847,\n",
       "       114.38999939, 113.01999664, 113.37000275, 114.37999725,\n",
       "       113.91000366, 115.08000183, 112.08000183, 108.97000122,\n",
       "       112.69999695, 114.16000366, 114.27999878, 114.19000244,\n",
       "       114.19999695, 116.69999695, 115.84999847, 117.23999786,\n",
       "       117.87000275, 117.93000031, 116.77999878, 117.29000092,\n",
       "       116.86000061, 119.37000275, 120.61000061, 121.91999817,\n",
       "       120.61000061, 121.        , 121.62999725, 121.22000122,\n",
       "       123.33999634, 125.        , 123.94000244, 124.30999756,\n",
       "       123.08999634, 122.51000214, 124.36000061, 125.15000153,\n",
       "       125.26000214, 125.05999756, 124.87999725, 124.90000153,\n",
       "       124.87999725, 123.90000153, 123.30000305, 124.37000275,\n",
       "       123.91000366, 123.55999756, 124.15000153, 124.37000275,\n",
       "       123.48000336, 123.88999939, 124.95999908, 126.54000092,\n",
       "       125.83999634, 126.12000275, 126.16999817, 126.51000214,\n",
       "       129.72999573, 131.05000305, 130.27000427, 127.09999847,\n",
       "       128.69000244, 127.20999908, 127.76999664, 128.3500061 ,\n",
       "       129.07000732, 128.6499939 , 128.63999939, 129.94000244,\n",
       "       130.08000183, 127.95999908, 127.30999756, 128.69000244,\n",
       "       129.22999573, 128.08999634, 128.27000427, 128.77000427,\n",
       "       128.19000244, 128.47000122, 128.74000549, 128.99000549,\n",
       "       130.24000549, 128.88000488, 129.05000305, 127.81999969,\n",
       "       127.87999725, 127.54000092, 128.57000732, 130.11000061,\n",
       "       130.        , 132.07000732, 133.27999878, 132.28999329,\n",
       "       131.03999329, 129.69000244, 131.28999329, 130.99000549,\n",
       "       129.5       , 127.16999817, 120.        , 120.75      ,\n",
       "       122.15000153, 124.22000122, 123.18000031, 120.80000305,\n",
       "       119.01999664, 115.08000183, 117.19999695, 116.33999634,\n",
       "       117.79000092, 117.01999664, 121.76999664, 121.47000122,\n",
       "       120.83999634, 120.37999725, 120.41000366, 120.87000275,\n",
       "       118.41999817, 115.09999847, 115.40000153, 117.43000031,\n",
       "       117.30999756, 117.94999695, 118.91000366, 119.68000031,\n",
       "       117.76999664, 120.30999756, 120.20999908, 120.56999969,\n",
       "       119.87000275, 119.23999786, 119.08999634, 119.04000092,\n",
       "       117.40000153, 117.26999664, 118.01000214, 116.91999817,\n",
       "       116.34999847, 115.05000305, 116.86000061, 118.69000244,\n",
       "       120.66999817, 123.41000366, 124.90000153, 124.34999847,\n",
       "       126.08999634, 126.62000275, 128.33999634, 127.87000275,\n",
       "       127.91999817, 127.55000305, 127.04000092, 128.92999268,\n",
       "       129.36999512, 131.47999573, 132.77999878, 132.17999268,\n",
       "       130.97999573, 130.32000732, 133.22999573, 130.83999634,\n",
       "       130.97999573, 132.05999756, 131.83999634, 134.19999695,\n",
       "       134.13999939, 134.19000244, 134.05000305, 133.8500061 ,\n",
       "       133.44000244, 133.83999634, 133.52999878, 133.72000122,\n",
       "       136.11999512, 135.36000061, 135.44000244, 136.41000366,\n",
       "       135.53999329, 137.41999817, 136.75999451, 137.16999817,\n",
       "       137.41999817, 137.30000305, 137.72000122, 138.24000549,\n",
       "       138.78999329, 139.6000061 , 139.32000732, 139.72000122,\n",
       "       139.99000549, 139.83999634, 139.94000244, 138.50999451,\n",
       "       139.58999634, 139.52999878, 140.33999634, 140.32000732,\n",
       "       141.75999451, 142.6499939 , 142.41000366, 142.05000305,\n",
       "       142.27999878, 141.72999573, 141.8500061 , 141.16999817,\n",
       "       140.77999878, 141.03999329, 139.91999817, 139.58000183,\n",
       "       139.38999939, 141.41999817, 140.96000671, 142.27000427,\n",
       "       143.80000305, 143.67999268, 145.47000122, 146.49000549,\n",
       "       146.55999756, 147.69999695, 150.25      , 152.46000671,\n",
       "       152.77999878, 151.80000305, 150.8500061 , 150.24000549,\n",
       "       151.05999756, 150.47999573, 150.28999329, 150.03999329,\n",
       "       150.33000183, 150.19000244, 149.77999878, 144.8500061 ,\n",
       "       147.66000366, 148.05999756, 148.24000549, 148.07000732,\n",
       "       150.03999329, 151.96000671, 152.13000488, 152.38000488,\n",
       "       151.46000671, 151.52999878, 153.61000061, 153.63000488,\n",
       "       152.80999756, 153.11999512, 154.71000671, 149.6000061 ,\n",
       "       148.44000244, 150.67999268, 150.25      , 149.80000305,\n",
       "       150.63999939, 152.86999512, 152.25      , 153.91000366,\n",
       "       153.3999939 , 155.07000732, 153.58999634, 150.58000183,\n",
       "       153.24000549, 151.03999329, 150.97999573, 148.42999268,\n",
       "       150.33999634, 148.82000732, 151.44000244, 153.5       ,\n",
       "       155.27000427, 158.8999939 , 159.25999451, 159.97000122,\n",
       "       159.72999573, 162.86000061, 164.13999939, 164.52999878,\n",
       "       164.42999268, 166.        , 165.27999878, 165.61000061,\n",
       "       170.44000244, 172.44999695, 169.25      , 169.86000061,\n",
       "       169.30000305, 168.58999634, 169.61999512, 171.97999573,\n",
       "       171.22999573, 171.17999268, 167.3999939 , 168.08000183,\n",
       "       170.75      , 171.        , 170.        , 166.91000366,\n",
       "       167.41000366, 167.77999878, 169.63999939, 168.71000671,\n",
       "       167.74000549, 166.32000732, 167.24000549, 168.05000305,\n",
       "       169.91999817, 171.97000122, 172.02000427, 170.72000122,\n",
       "       172.08999634, 173.21000671, 170.94999695, 173.50999451,\n",
       "       172.96000671, 173.05000305, 170.96000671, 171.63999939,\n",
       "       170.00999451, 172.52000427, 172.16999817, 171.11000061,\n",
       "       170.53999329, 162.86999512, 164.21000671, 167.67999268,\n",
       "       168.72999573, 170.86999512, 169.47000122, 169.96000671,\n",
       "       168.41999817, 171.24000549, 172.22999573, 172.5       ,\n",
       "       171.58999634, 172.74000549, 172.55000305, 173.74000549,\n",
       "       174.52000427, 176.11000061, 176.02999878, 174.55999756,\n",
       "       174.97999573, 171.27000427, 171.80000305, 170.6000061 ,\n",
       "       170.63000488, 177.88000488, 179.86999512, 180.05999756,\n",
       "       182.66000366, 178.91999817, 178.91999817, 180.16999817,\n",
       "       180.25      , 179.55999756, 179.30000305, 178.46000671,\n",
       "       178.77000427, 178.07000732, 177.94999695, 179.58999634,\n",
       "       179.        , 178.74000549, 181.86000061, 180.86999512,\n",
       "       182.77999878, 183.02999878, 182.41999817, 175.13000488,\n",
       "       177.17999268, 175.1000061 , 171.47000122, 172.83000183,\n",
       "       176.05999756, 180.13999939, 179.        , 179.03999329,\n",
       "       176.96000671, 178.30000305, 178.38999939, 180.17999268,\n",
       "       180.82000732, 179.50999451, 177.88999939, 177.44999695,\n",
       "       177.19999695, 175.99000549, 177.61999512, 177.91999817,\n",
       "       176.46000671, 181.41999817, 184.66999817, 184.33000183,\n",
       "       186.8500061 , 188.27999878, 187.86999512, 187.83999634,\n",
       "       187.77000427, 179.36999512, 178.38999939, 177.6000061 ,\n",
       "       179.80000305, 181.28999329, 185.36999512, 189.3500061 ,\n",
       "       186.55000305, 187.47999573, 190.        ])"
      ]
     },
     "execution_count": 62,
     "metadata": {},
     "output_type": "execute_result"
    }
   ],
   "source": [
    "#Se toma de los precios en cierre un numpy array:\n",
    "dt2= META.to_numpy()\n",
    "dt2"
   ]
  },
  {
   "cell_type": "code",
   "execution_count": 63,
   "metadata": {},
   "outputs": [
    {
     "data": {
      "text/plain": [
       "array([[118.56999969],\n",
       "       [117.43000031],\n",
       "       [118.05999756],\n",
       "       [117.80999756],\n",
       "       [119.48999786],\n",
       "       [119.23999786],\n",
       "       [120.5       ],\n",
       "       [119.51999664],\n",
       "       [120.27999878],\n",
       "       [119.80999756],\n",
       "       [118.66999817],\n",
       "       [117.34999847],\n",
       "       [117.65000153],\n",
       "       [116.80999756],\n",
       "       [117.34999847],\n",
       "       [115.97000122],\n",
       "       [117.69999695],\n",
       "       [117.88999939],\n",
       "       [119.47000122],\n",
       "       [119.37999725],\n",
       "       [118.80999756],\n",
       "       [118.77999878],\n",
       "       [118.93000031],\n",
       "       [118.47000122],\n",
       "       [118.79000092],\n",
       "       [117.76000214],\n",
       "       [118.38999939],\n",
       "       [118.55999756],\n",
       "       [116.62000275],\n",
       "       [113.94999695],\n",
       "       [114.94000244],\n",
       "       [114.59999847],\n",
       "       [114.38999939],\n",
       "       [113.01999664],\n",
       "       [113.37000275],\n",
       "       [114.37999725],\n",
       "       [113.91000366],\n",
       "       [115.08000183],\n",
       "       [112.08000183],\n",
       "       [108.97000122],\n",
       "       [112.69999695],\n",
       "       [114.16000366],\n",
       "       [114.27999878],\n",
       "       [114.19000244],\n",
       "       [114.19999695],\n",
       "       [116.69999695],\n",
       "       [115.84999847],\n",
       "       [117.23999786],\n",
       "       [117.87000275],\n",
       "       [117.93000031],\n",
       "       [116.77999878],\n",
       "       [117.29000092],\n",
       "       [116.86000061],\n",
       "       [119.37000275],\n",
       "       [120.61000061],\n",
       "       [121.91999817],\n",
       "       [120.61000061],\n",
       "       [121.        ],\n",
       "       [121.62999725],\n",
       "       [121.22000122],\n",
       "       [123.33999634],\n",
       "       [125.        ],\n",
       "       [123.94000244],\n",
       "       [124.30999756],\n",
       "       [123.08999634],\n",
       "       [122.51000214],\n",
       "       [124.36000061],\n",
       "       [125.15000153],\n",
       "       [125.26000214],\n",
       "       [125.05999756],\n",
       "       [124.87999725],\n",
       "       [124.90000153],\n",
       "       [124.87999725],\n",
       "       [123.90000153],\n",
       "       [123.30000305],\n",
       "       [124.37000275],\n",
       "       [123.91000366],\n",
       "       [123.55999756],\n",
       "       [124.15000153],\n",
       "       [124.37000275],\n",
       "       [123.48000336],\n",
       "       [123.88999939],\n",
       "       [124.95999908],\n",
       "       [126.54000092],\n",
       "       [125.83999634],\n",
       "       [126.12000275],\n",
       "       [126.16999817],\n",
       "       [126.51000214],\n",
       "       [129.72999573],\n",
       "       [131.05000305],\n",
       "       [130.27000427],\n",
       "       [127.09999847],\n",
       "       [128.69000244],\n",
       "       [127.20999908],\n",
       "       [127.76999664],\n",
       "       [128.3500061 ],\n",
       "       [129.07000732],\n",
       "       [128.6499939 ],\n",
       "       [128.63999939],\n",
       "       [129.94000244],\n",
       "       [130.08000183],\n",
       "       [127.95999908],\n",
       "       [127.30999756],\n",
       "       [128.69000244],\n",
       "       [129.22999573],\n",
       "       [128.08999634],\n",
       "       [128.27000427],\n",
       "       [128.77000427],\n",
       "       [128.19000244],\n",
       "       [128.47000122],\n",
       "       [128.74000549],\n",
       "       [128.99000549],\n",
       "       [130.24000549],\n",
       "       [128.88000488],\n",
       "       [129.05000305],\n",
       "       [127.81999969],\n",
       "       [127.87999725],\n",
       "       [127.54000092],\n",
       "       [128.57000732],\n",
       "       [130.11000061],\n",
       "       [130.        ],\n",
       "       [132.07000732],\n",
       "       [133.27999878],\n",
       "       [132.28999329],\n",
       "       [131.03999329],\n",
       "       [129.69000244],\n",
       "       [131.28999329],\n",
       "       [130.99000549],\n",
       "       [129.5       ],\n",
       "       [127.16999817],\n",
       "       [120.        ],\n",
       "       [120.75      ],\n",
       "       [122.15000153],\n",
       "       [124.22000122],\n",
       "       [123.18000031],\n",
       "       [120.80000305],\n",
       "       [119.01999664],\n",
       "       [115.08000183],\n",
       "       [117.19999695],\n",
       "       [116.33999634],\n",
       "       [117.79000092],\n",
       "       [117.01999664],\n",
       "       [121.76999664],\n",
       "       [121.47000122],\n",
       "       [120.83999634],\n",
       "       [120.37999725],\n",
       "       [120.41000366],\n",
       "       [120.87000275],\n",
       "       [118.41999817],\n",
       "       [115.09999847],\n",
       "       [115.40000153],\n",
       "       [117.43000031],\n",
       "       [117.30999756],\n",
       "       [117.94999695],\n",
       "       [118.91000366],\n",
       "       [119.68000031],\n",
       "       [117.76999664],\n",
       "       [120.30999756],\n",
       "       [120.20999908],\n",
       "       [120.56999969],\n",
       "       [119.87000275],\n",
       "       [119.23999786],\n",
       "       [119.08999634],\n",
       "       [119.04000092],\n",
       "       [117.40000153],\n",
       "       [117.26999664],\n",
       "       [118.01000214],\n",
       "       [116.91999817],\n",
       "       [116.34999847],\n",
       "       [115.05000305],\n",
       "       [116.86000061],\n",
       "       [118.69000244],\n",
       "       [120.66999817],\n",
       "       [123.41000366],\n",
       "       [124.90000153],\n",
       "       [124.34999847],\n",
       "       [126.08999634],\n",
       "       [126.62000275],\n",
       "       [128.33999634],\n",
       "       [127.87000275],\n",
       "       [127.91999817],\n",
       "       [127.55000305],\n",
       "       [127.04000092],\n",
       "       [128.92999268],\n",
       "       [129.36999512],\n",
       "       [131.47999573],\n",
       "       [132.77999878],\n",
       "       [132.17999268],\n",
       "       [130.97999573],\n",
       "       [130.32000732],\n",
       "       [133.22999573],\n",
       "       [130.83999634],\n",
       "       [130.97999573],\n",
       "       [132.05999756],\n",
       "       [131.83999634],\n",
       "       [134.19999695],\n",
       "       [134.13999939],\n",
       "       [134.19000244],\n",
       "       [134.05000305],\n",
       "       [133.8500061 ],\n",
       "       [133.44000244],\n",
       "       [133.83999634],\n",
       "       [133.52999878],\n",
       "       [133.72000122],\n",
       "       [136.11999512],\n",
       "       [135.36000061],\n",
       "       [135.44000244],\n",
       "       [136.41000366],\n",
       "       [135.53999329],\n",
       "       [137.41999817],\n",
       "       [136.75999451],\n",
       "       [137.16999817],\n",
       "       [137.41999817],\n",
       "       [137.30000305],\n",
       "       [137.72000122],\n",
       "       [138.24000549],\n",
       "       [138.78999329],\n",
       "       [139.6000061 ],\n",
       "       [139.32000732],\n",
       "       [139.72000122],\n",
       "       [139.99000549],\n",
       "       [139.83999634],\n",
       "       [139.94000244],\n",
       "       [138.50999451],\n",
       "       [139.58999634],\n",
       "       [139.52999878],\n",
       "       [140.33999634],\n",
       "       [140.32000732],\n",
       "       [141.75999451],\n",
       "       [142.6499939 ],\n",
       "       [142.41000366],\n",
       "       [142.05000305],\n",
       "       [142.27999878],\n",
       "       [141.72999573],\n",
       "       [141.8500061 ],\n",
       "       [141.16999817],\n",
       "       [140.77999878],\n",
       "       [141.03999329],\n",
       "       [139.91999817],\n",
       "       [139.58000183],\n",
       "       [139.38999939],\n",
       "       [141.41999817],\n",
       "       [140.96000671],\n",
       "       [142.27000427],\n",
       "       [143.80000305],\n",
       "       [143.67999268],\n",
       "       [145.47000122],\n",
       "       [146.49000549],\n",
       "       [146.55999756],\n",
       "       [147.69999695],\n",
       "       [150.25      ],\n",
       "       [152.46000671],\n",
       "       [152.77999878],\n",
       "       [151.80000305],\n",
       "       [150.8500061 ],\n",
       "       [150.24000549],\n",
       "       [151.05999756],\n",
       "       [150.47999573],\n",
       "       [150.28999329],\n",
       "       [150.03999329],\n",
       "       [150.33000183],\n",
       "       [150.19000244],\n",
       "       [149.77999878],\n",
       "       [144.8500061 ],\n",
       "       [147.66000366],\n",
       "       [148.05999756],\n",
       "       [148.24000549],\n",
       "       [148.07000732],\n",
       "       [150.03999329],\n",
       "       [151.96000671],\n",
       "       [152.13000488],\n",
       "       [152.38000488],\n",
       "       [151.46000671],\n",
       "       [151.52999878],\n",
       "       [153.61000061],\n",
       "       [153.63000488],\n",
       "       [152.80999756],\n",
       "       [153.11999512],\n",
       "       [154.71000671],\n",
       "       [149.6000061 ],\n",
       "       [148.44000244],\n",
       "       [150.67999268],\n",
       "       [150.25      ],\n",
       "       [149.80000305],\n",
       "       [150.63999939],\n",
       "       [152.86999512],\n",
       "       [152.25      ],\n",
       "       [153.91000366],\n",
       "       [153.3999939 ],\n",
       "       [155.07000732],\n",
       "       [153.58999634],\n",
       "       [150.58000183],\n",
       "       [153.24000549],\n",
       "       [151.03999329],\n",
       "       [150.97999573],\n",
       "       [148.42999268],\n",
       "       [150.33999634],\n",
       "       [148.82000732],\n",
       "       [151.44000244],\n",
       "       [153.5       ],\n",
       "       [155.27000427],\n",
       "       [158.8999939 ],\n",
       "       [159.25999451],\n",
       "       [159.97000122],\n",
       "       [159.72999573],\n",
       "       [162.86000061],\n",
       "       [164.13999939],\n",
       "       [164.52999878],\n",
       "       [164.42999268],\n",
       "       [166.        ],\n",
       "       [165.27999878],\n",
       "       [165.61000061],\n",
       "       [170.44000244],\n",
       "       [172.44999695],\n",
       "       [169.25      ],\n",
       "       [169.86000061],\n",
       "       [169.30000305],\n",
       "       [168.58999634],\n",
       "       [169.61999512],\n",
       "       [171.97999573],\n",
       "       [171.22999573],\n",
       "       [171.17999268],\n",
       "       [167.3999939 ],\n",
       "       [168.08000183],\n",
       "       [170.75      ],\n",
       "       [171.        ],\n",
       "       [170.        ],\n",
       "       [166.91000366],\n",
       "       [167.41000366],\n",
       "       [167.77999878],\n",
       "       [169.63999939],\n",
       "       [168.71000671],\n",
       "       [167.74000549],\n",
       "       [166.32000732],\n",
       "       [167.24000549],\n",
       "       [168.05000305],\n",
       "       [169.91999817],\n",
       "       [171.97000122],\n",
       "       [172.02000427],\n",
       "       [170.72000122],\n",
       "       [172.08999634],\n",
       "       [173.21000671],\n",
       "       [170.94999695],\n",
       "       [173.50999451],\n",
       "       [172.96000671],\n",
       "       [173.05000305],\n",
       "       [170.96000671],\n",
       "       [171.63999939],\n",
       "       [170.00999451],\n",
       "       [172.52000427],\n",
       "       [172.16999817],\n",
       "       [171.11000061],\n",
       "       [170.53999329],\n",
       "       [162.86999512],\n",
       "       [164.21000671],\n",
       "       [167.67999268],\n",
       "       [168.72999573],\n",
       "       [170.86999512],\n",
       "       [169.47000122],\n",
       "       [169.96000671],\n",
       "       [168.41999817],\n",
       "       [171.24000549],\n",
       "       [172.22999573],\n",
       "       [172.5       ],\n",
       "       [171.58999634],\n",
       "       [172.74000549],\n",
       "       [172.55000305],\n",
       "       [173.74000549],\n",
       "       [174.52000427],\n",
       "       [176.11000061],\n",
       "       [176.02999878],\n",
       "       [174.55999756],\n",
       "       [174.97999573],\n",
       "       [171.27000427],\n",
       "       [171.80000305],\n",
       "       [170.6000061 ],\n",
       "       [170.63000488],\n",
       "       [177.88000488],\n",
       "       [179.86999512],\n",
       "       [180.05999756],\n",
       "       [182.66000366],\n",
       "       [178.91999817],\n",
       "       [178.91999817],\n",
       "       [180.16999817],\n",
       "       [180.25      ],\n",
       "       [179.55999756],\n",
       "       [179.30000305],\n",
       "       [178.46000671],\n",
       "       [178.77000427],\n",
       "       [178.07000732],\n",
       "       [177.94999695],\n",
       "       [179.58999634],\n",
       "       [179.        ],\n",
       "       [178.74000549],\n",
       "       [181.86000061],\n",
       "       [180.86999512],\n",
       "       [182.77999878],\n",
       "       [183.02999878],\n",
       "       [182.41999817],\n",
       "       [175.13000488],\n",
       "       [177.17999268],\n",
       "       [175.1000061 ],\n",
       "       [171.47000122],\n",
       "       [172.83000183],\n",
       "       [176.05999756],\n",
       "       [180.13999939],\n",
       "       [179.        ],\n",
       "       [179.03999329],\n",
       "       [176.96000671],\n",
       "       [178.30000305],\n",
       "       [178.38999939],\n",
       "       [180.17999268],\n",
       "       [180.82000732],\n",
       "       [179.50999451],\n",
       "       [177.88999939],\n",
       "       [177.44999695],\n",
       "       [177.19999695],\n",
       "       [175.99000549],\n",
       "       [177.61999512],\n",
       "       [177.91999817],\n",
       "       [176.46000671],\n",
       "       [181.41999817],\n",
       "       [184.66999817],\n",
       "       [184.33000183],\n",
       "       [186.8500061 ],\n",
       "       [188.27999878],\n",
       "       [187.86999512],\n",
       "       [187.83999634],\n",
       "       [187.77000427],\n",
       "       [179.36999512],\n",
       "       [178.38999939],\n",
       "       [177.6000061 ],\n",
       "       [179.80000305],\n",
       "       [181.28999329],\n",
       "       [185.36999512],\n",
       "       [189.3500061 ],\n",
       "       [186.55000305],\n",
       "       [187.47999573],\n",
       "       [190.        ]])"
      ]
     },
     "execution_count": 63,
     "metadata": {},
     "output_type": "execute_result"
    }
   ],
   "source": [
    "#Se genera un rearreglo de la dimensión del array a 1D, en los renglones\n",
    "close_data = dt2.reshape((-1,1))\n",
    "close_data"
   ]
  },
  {
   "cell_type": "markdown",
   "metadata": {},
   "source": [
    "### Partición, Entrenamiento y Prueba"
   ]
  },
  {
   "cell_type": "markdown",
   "metadata": {},
   "source": [
    "#### Partición"
   ]
  },
  {
   "cell_type": "code",
   "execution_count": 64,
   "metadata": {},
   "outputs": [],
   "source": [
    "## Se procede a partir los datos\n",
    "split_percent = 0.95 ## Como se especifico la serie de prueba queda con el 5% de los datos \n",
    "split = int(split_percent*len(close_data))\n",
    "\n",
    "#Aplicamos dicha proporción a la definición de la parte de entrenamiento y de prueba.\n",
    "close_train = close_data[:split]\n",
    "close_test = close_data[split:]\n",
    "\n",
    "date_train = dataindex[:split]\n",
    "date_test = dataindex[split:]"
   ]
  },
  {
   "cell_type": "code",
   "execution_count": 65,
   "metadata": {},
   "outputs": [
    {
     "data": {
      "text/plain": [
       "DatetimeIndex(['2017-12-26', '2017-12-27', '2017-12-28', '2017-12-29',\n",
       "               '2018-01-02', '2018-01-03', '2018-01-04', '2018-01-05',\n",
       "               '2018-01-08', '2018-01-09', '2018-01-10', '2018-01-11',\n",
       "               '2018-01-12', '2018-01-16', '2018-01-17', '2018-01-18',\n",
       "               '2018-01-19', '2018-01-22', '2018-01-23', '2018-01-24',\n",
       "               '2018-01-25', '2018-01-26'],\n",
       "              dtype='datetime64[ns]', name='Date', freq=None)"
      ]
     },
     "execution_count": 65,
     "metadata": {},
     "output_type": "execute_result"
    }
   ],
   "source": [
    "## Verificación de que las fechas se hayan guardado en el formato correcto\n",
    "date_test"
   ]
  },
  {
   "cell_type": "code",
   "execution_count": 66,
   "metadata": {},
   "outputs": [
    {
     "name": "stdout",
     "output_type": "stream",
     "text": [
      "417\n",
      "22\n"
     ]
    }
   ],
   "source": [
    "## Se verifica el tamaño de los datos de entrenamiento y prueba\n",
    "print(len(close_train))\n",
    "print(len(close_test))"
   ]
  },
  {
   "cell_type": "code",
   "execution_count": 67,
   "metadata": {},
   "outputs": [],
   "source": [
    "## Se define la estructura con base en la información brindada en Evaluación del Módulo Parte 2\n",
    "n_back = 10   #la longitud de ventana 10\n",
    "train_generator = TimeseriesGenerator(close_train, close_train, length=n_back, batch_size=25)     \n",
    "#test_generator = TimeseriesGenerator(close_test, close_test, length=n_back, batch_size=1)\n",
    "test_generator = TimeseriesGenerator(close_test, close_test, length=n_back, batch_size=1, end_index=len(close_test)-1)"
   ]
  },
  {
   "cell_type": "code",
   "execution_count": 68,
   "metadata": {},
   "outputs": [
    {
     "name": "stdout",
     "output_type": "stream",
     "text": [
      "Samples: 17\n",
      "Samples: 12\n"
     ]
    }
   ],
   "source": [
    "# Podemos ver el número de muestras que se prepararán en los datos por el generador para esta serie\n",
    "print('Samples: %d' % len(train_generator))\n",
    "print('Samples: %d' % len(test_generator))"
   ]
  },
  {
   "cell_type": "markdown",
   "metadata": {},
   "source": [
    "#### Entrenamiento"
   ]
  },
  {
   "cell_type": "code",
   "execution_count": 69,
   "metadata": {},
   "outputs": [
    {
     "data": {
      "text/plain": [
       "<keras.callbacks.History at 0x1acdf888580>"
      ]
     },
     "execution_count": 69,
     "metadata": {},
     "output_type": "execute_result"
    }
   ],
   "source": [
    "#Se configura la red del modelo LSTM\n",
    "model = Sequential()\n",
    "model.add(\n",
    "    LSTM(200,  ## de nodos, dependerá de su poder de cómputo.\n",
    "        activation='relu', #función de activación.\n",
    "        input_shape=(n_back,1))   ##la longitud de la secuencia\n",
    ")\n",
    "model.add(Dense(1))  #capa de salida de predicción\n",
    "model.compile(optimizer='adam', loss='mse', metrics= ['mse', 'mae', 'mape'])\n",
    "\n",
    "num_epochs = 30\n",
    "model.fit(train_generator, epochs=num_epochs, verbose=0)"
   ]
  },
  {
   "cell_type": "code",
   "execution_count": 70,
   "metadata": {},
   "outputs": [],
   "source": [
    "## Se reliza el ajuste del modelo a los datos\n",
    "history = model.fit(train_generator, epochs=num_epochs, verbose=0)"
   ]
  },
  {
   "cell_type": "code",
   "execution_count": 71,
   "metadata": {},
   "outputs": [
    {
     "data": {
      "application/vnd.plotly.v1+json": {
       "config": {
        "plotlyServerURL": "https://plot.ly"
       },
       "data": [
        {
         "name": "loss",
         "type": "scatter",
         "x": [
          0,
          1,
          2,
          3,
          4,
          5,
          6,
          7,
          8,
          9,
          10,
          11,
          12,
          13,
          14,
          15,
          16,
          17,
          18,
          19,
          20,
          21,
          22,
          23,
          24,
          25,
          26,
          27,
          28,
          29
         ],
         "y": [
          9.937335014343262,
          11.100556373596191,
          11.917652130126953,
          14.105534553527832,
          16.943883895874023,
          16.64832305908203,
          13.254075050354004,
          11.328088760375977,
          12.78879165649414,
          12.367623329162598,
          11.29996109008789,
          15.320711135864258,
          14.104192733764648,
          15.209983825683594,
          13.44925594329834,
          11.387289047241211,
          13.319846153259277,
          11.214312553405762,
          12.884364128112793,
          16.9089298248291,
          18.995820999145508,
          18.398963928222656,
          10.538606643676758,
          14.825953483581543,
          11.009984016418457,
          14.63281536102295,
          15.349312782287598,
          14.89266300201416,
          20.867658615112305,
          12.092974662780762
         ]
        }
       ],
       "layout": {
        "template": {
         "data": {
          "bar": [
           {
            "error_x": {
             "color": "#2a3f5f"
            },
            "error_y": {
             "color": "#2a3f5f"
            },
            "marker": {
             "line": {
              "color": "#E5ECF6",
              "width": 0.5
             },
             "pattern": {
              "fillmode": "overlay",
              "size": 10,
              "solidity": 0.2
             }
            },
            "type": "bar"
           }
          ],
          "barpolar": [
           {
            "marker": {
             "line": {
              "color": "#E5ECF6",
              "width": 0.5
             },
             "pattern": {
              "fillmode": "overlay",
              "size": 10,
              "solidity": 0.2
             }
            },
            "type": "barpolar"
           }
          ],
          "carpet": [
           {
            "aaxis": {
             "endlinecolor": "#2a3f5f",
             "gridcolor": "white",
             "linecolor": "white",
             "minorgridcolor": "white",
             "startlinecolor": "#2a3f5f"
            },
            "baxis": {
             "endlinecolor": "#2a3f5f",
             "gridcolor": "white",
             "linecolor": "white",
             "minorgridcolor": "white",
             "startlinecolor": "#2a3f5f"
            },
            "type": "carpet"
           }
          ],
          "choropleth": [
           {
            "colorbar": {
             "outlinewidth": 0,
             "ticks": ""
            },
            "type": "choropleth"
           }
          ],
          "contour": [
           {
            "colorbar": {
             "outlinewidth": 0,
             "ticks": ""
            },
            "colorscale": [
             [
              0,
              "#0d0887"
             ],
             [
              0.1111111111111111,
              "#46039f"
             ],
             [
              0.2222222222222222,
              "#7201a8"
             ],
             [
              0.3333333333333333,
              "#9c179e"
             ],
             [
              0.4444444444444444,
              "#bd3786"
             ],
             [
              0.5555555555555556,
              "#d8576b"
             ],
             [
              0.6666666666666666,
              "#ed7953"
             ],
             [
              0.7777777777777778,
              "#fb9f3a"
             ],
             [
              0.8888888888888888,
              "#fdca26"
             ],
             [
              1,
              "#f0f921"
             ]
            ],
            "type": "contour"
           }
          ],
          "contourcarpet": [
           {
            "colorbar": {
             "outlinewidth": 0,
             "ticks": ""
            },
            "type": "contourcarpet"
           }
          ],
          "heatmap": [
           {
            "colorbar": {
             "outlinewidth": 0,
             "ticks": ""
            },
            "colorscale": [
             [
              0,
              "#0d0887"
             ],
             [
              0.1111111111111111,
              "#46039f"
             ],
             [
              0.2222222222222222,
              "#7201a8"
             ],
             [
              0.3333333333333333,
              "#9c179e"
             ],
             [
              0.4444444444444444,
              "#bd3786"
             ],
             [
              0.5555555555555556,
              "#d8576b"
             ],
             [
              0.6666666666666666,
              "#ed7953"
             ],
             [
              0.7777777777777778,
              "#fb9f3a"
             ],
             [
              0.8888888888888888,
              "#fdca26"
             ],
             [
              1,
              "#f0f921"
             ]
            ],
            "type": "heatmap"
           }
          ],
          "heatmapgl": [
           {
            "colorbar": {
             "outlinewidth": 0,
             "ticks": ""
            },
            "colorscale": [
             [
              0,
              "#0d0887"
             ],
             [
              0.1111111111111111,
              "#46039f"
             ],
             [
              0.2222222222222222,
              "#7201a8"
             ],
             [
              0.3333333333333333,
              "#9c179e"
             ],
             [
              0.4444444444444444,
              "#bd3786"
             ],
             [
              0.5555555555555556,
              "#d8576b"
             ],
             [
              0.6666666666666666,
              "#ed7953"
             ],
             [
              0.7777777777777778,
              "#fb9f3a"
             ],
             [
              0.8888888888888888,
              "#fdca26"
             ],
             [
              1,
              "#f0f921"
             ]
            ],
            "type": "heatmapgl"
           }
          ],
          "histogram": [
           {
            "marker": {
             "pattern": {
              "fillmode": "overlay",
              "size": 10,
              "solidity": 0.2
             }
            },
            "type": "histogram"
           }
          ],
          "histogram2d": [
           {
            "colorbar": {
             "outlinewidth": 0,
             "ticks": ""
            },
            "colorscale": [
             [
              0,
              "#0d0887"
             ],
             [
              0.1111111111111111,
              "#46039f"
             ],
             [
              0.2222222222222222,
              "#7201a8"
             ],
             [
              0.3333333333333333,
              "#9c179e"
             ],
             [
              0.4444444444444444,
              "#bd3786"
             ],
             [
              0.5555555555555556,
              "#d8576b"
             ],
             [
              0.6666666666666666,
              "#ed7953"
             ],
             [
              0.7777777777777778,
              "#fb9f3a"
             ],
             [
              0.8888888888888888,
              "#fdca26"
             ],
             [
              1,
              "#f0f921"
             ]
            ],
            "type": "histogram2d"
           }
          ],
          "histogram2dcontour": [
           {
            "colorbar": {
             "outlinewidth": 0,
             "ticks": ""
            },
            "colorscale": [
             [
              0,
              "#0d0887"
             ],
             [
              0.1111111111111111,
              "#46039f"
             ],
             [
              0.2222222222222222,
              "#7201a8"
             ],
             [
              0.3333333333333333,
              "#9c179e"
             ],
             [
              0.4444444444444444,
              "#bd3786"
             ],
             [
              0.5555555555555556,
              "#d8576b"
             ],
             [
              0.6666666666666666,
              "#ed7953"
             ],
             [
              0.7777777777777778,
              "#fb9f3a"
             ],
             [
              0.8888888888888888,
              "#fdca26"
             ],
             [
              1,
              "#f0f921"
             ]
            ],
            "type": "histogram2dcontour"
           }
          ],
          "mesh3d": [
           {
            "colorbar": {
             "outlinewidth": 0,
             "ticks": ""
            },
            "type": "mesh3d"
           }
          ],
          "parcoords": [
           {
            "line": {
             "colorbar": {
              "outlinewidth": 0,
              "ticks": ""
             }
            },
            "type": "parcoords"
           }
          ],
          "pie": [
           {
            "automargin": true,
            "type": "pie"
           }
          ],
          "scatter": [
           {
            "marker": {
             "colorbar": {
              "outlinewidth": 0,
              "ticks": ""
             }
            },
            "type": "scatter"
           }
          ],
          "scatter3d": [
           {
            "line": {
             "colorbar": {
              "outlinewidth": 0,
              "ticks": ""
             }
            },
            "marker": {
             "colorbar": {
              "outlinewidth": 0,
              "ticks": ""
             }
            },
            "type": "scatter3d"
           }
          ],
          "scattercarpet": [
           {
            "marker": {
             "colorbar": {
              "outlinewidth": 0,
              "ticks": ""
             }
            },
            "type": "scattercarpet"
           }
          ],
          "scattergeo": [
           {
            "marker": {
             "colorbar": {
              "outlinewidth": 0,
              "ticks": ""
             }
            },
            "type": "scattergeo"
           }
          ],
          "scattergl": [
           {
            "marker": {
             "colorbar": {
              "outlinewidth": 0,
              "ticks": ""
             }
            },
            "type": "scattergl"
           }
          ],
          "scattermapbox": [
           {
            "marker": {
             "colorbar": {
              "outlinewidth": 0,
              "ticks": ""
             }
            },
            "type": "scattermapbox"
           }
          ],
          "scatterpolar": [
           {
            "marker": {
             "colorbar": {
              "outlinewidth": 0,
              "ticks": ""
             }
            },
            "type": "scatterpolar"
           }
          ],
          "scatterpolargl": [
           {
            "marker": {
             "colorbar": {
              "outlinewidth": 0,
              "ticks": ""
             }
            },
            "type": "scatterpolargl"
           }
          ],
          "scatterternary": [
           {
            "marker": {
             "colorbar": {
              "outlinewidth": 0,
              "ticks": ""
             }
            },
            "type": "scatterternary"
           }
          ],
          "surface": [
           {
            "colorbar": {
             "outlinewidth": 0,
             "ticks": ""
            },
            "colorscale": [
             [
              0,
              "#0d0887"
             ],
             [
              0.1111111111111111,
              "#46039f"
             ],
             [
              0.2222222222222222,
              "#7201a8"
             ],
             [
              0.3333333333333333,
              "#9c179e"
             ],
             [
              0.4444444444444444,
              "#bd3786"
             ],
             [
              0.5555555555555556,
              "#d8576b"
             ],
             [
              0.6666666666666666,
              "#ed7953"
             ],
             [
              0.7777777777777778,
              "#fb9f3a"
             ],
             [
              0.8888888888888888,
              "#fdca26"
             ],
             [
              1,
              "#f0f921"
             ]
            ],
            "type": "surface"
           }
          ],
          "table": [
           {
            "cells": {
             "fill": {
              "color": "#EBF0F8"
             },
             "line": {
              "color": "white"
             }
            },
            "header": {
             "fill": {
              "color": "#C8D4E3"
             },
             "line": {
              "color": "white"
             }
            },
            "type": "table"
           }
          ]
         },
         "layout": {
          "annotationdefaults": {
           "arrowcolor": "#2a3f5f",
           "arrowhead": 0,
           "arrowwidth": 1
          },
          "autotypenumbers": "strict",
          "coloraxis": {
           "colorbar": {
            "outlinewidth": 0,
            "ticks": ""
           }
          },
          "colorscale": {
           "diverging": [
            [
             0,
             "#8e0152"
            ],
            [
             0.1,
             "#c51b7d"
            ],
            [
             0.2,
             "#de77ae"
            ],
            [
             0.3,
             "#f1b6da"
            ],
            [
             0.4,
             "#fde0ef"
            ],
            [
             0.5,
             "#f7f7f7"
            ],
            [
             0.6,
             "#e6f5d0"
            ],
            [
             0.7,
             "#b8e186"
            ],
            [
             0.8,
             "#7fbc41"
            ],
            [
             0.9,
             "#4d9221"
            ],
            [
             1,
             "#276419"
            ]
           ],
           "sequential": [
            [
             0,
             "#0d0887"
            ],
            [
             0.1111111111111111,
             "#46039f"
            ],
            [
             0.2222222222222222,
             "#7201a8"
            ],
            [
             0.3333333333333333,
             "#9c179e"
            ],
            [
             0.4444444444444444,
             "#bd3786"
            ],
            [
             0.5555555555555556,
             "#d8576b"
            ],
            [
             0.6666666666666666,
             "#ed7953"
            ],
            [
             0.7777777777777778,
             "#fb9f3a"
            ],
            [
             0.8888888888888888,
             "#fdca26"
            ],
            [
             1,
             "#f0f921"
            ]
           ],
           "sequentialminus": [
            [
             0,
             "#0d0887"
            ],
            [
             0.1111111111111111,
             "#46039f"
            ],
            [
             0.2222222222222222,
             "#7201a8"
            ],
            [
             0.3333333333333333,
             "#9c179e"
            ],
            [
             0.4444444444444444,
             "#bd3786"
            ],
            [
             0.5555555555555556,
             "#d8576b"
            ],
            [
             0.6666666666666666,
             "#ed7953"
            ],
            [
             0.7777777777777778,
             "#fb9f3a"
            ],
            [
             0.8888888888888888,
             "#fdca26"
            ],
            [
             1,
             "#f0f921"
            ]
           ]
          },
          "colorway": [
           "#636efa",
           "#EF553B",
           "#00cc96",
           "#ab63fa",
           "#FFA15A",
           "#19d3f3",
           "#FF6692",
           "#B6E880",
           "#FF97FF",
           "#FECB52"
          ],
          "font": {
           "color": "#2a3f5f"
          },
          "geo": {
           "bgcolor": "white",
           "lakecolor": "white",
           "landcolor": "#E5ECF6",
           "showlakes": true,
           "showland": true,
           "subunitcolor": "white"
          },
          "hoverlabel": {
           "align": "left"
          },
          "hovermode": "closest",
          "mapbox": {
           "style": "light"
          },
          "paper_bgcolor": "white",
          "plot_bgcolor": "#E5ECF6",
          "polar": {
           "angularaxis": {
            "gridcolor": "white",
            "linecolor": "white",
            "ticks": ""
           },
           "bgcolor": "#E5ECF6",
           "radialaxis": {
            "gridcolor": "white",
            "linecolor": "white",
            "ticks": ""
           }
          },
          "scene": {
           "xaxis": {
            "backgroundcolor": "#E5ECF6",
            "gridcolor": "white",
            "gridwidth": 2,
            "linecolor": "white",
            "showbackground": true,
            "ticks": "",
            "zerolinecolor": "white"
           },
           "yaxis": {
            "backgroundcolor": "#E5ECF6",
            "gridcolor": "white",
            "gridwidth": 2,
            "linecolor": "white",
            "showbackground": true,
            "ticks": "",
            "zerolinecolor": "white"
           },
           "zaxis": {
            "backgroundcolor": "#E5ECF6",
            "gridcolor": "white",
            "gridwidth": 2,
            "linecolor": "white",
            "showbackground": true,
            "ticks": "",
            "zerolinecolor": "white"
           }
          },
          "shapedefaults": {
           "line": {
            "color": "#2a3f5f"
           }
          },
          "ternary": {
           "aaxis": {
            "gridcolor": "white",
            "linecolor": "white",
            "ticks": ""
           },
           "baxis": {
            "gridcolor": "white",
            "linecolor": "white",
            "ticks": ""
           },
           "bgcolor": "#E5ECF6",
           "caxis": {
            "gridcolor": "white",
            "linecolor": "white",
            "ticks": ""
           }
          },
          "title": {
           "x": 0.05
          },
          "xaxis": {
           "automargin": true,
           "gridcolor": "white",
           "linecolor": "white",
           "ticks": "",
           "title": {
            "standoff": 15
           },
           "zerolinecolor": "white",
           "zerolinewidth": 2
          },
          "yaxis": {
           "automargin": true,
           "gridcolor": "white",
           "linecolor": "white",
           "ticks": "",
           "title": {
            "standoff": 15
           },
           "zerolinecolor": "white",
           "zerolinewidth": 2
          }
         }
        },
        "title": {
         "text": "Training loss"
        }
       }
      }
     },
     "metadata": {},
     "output_type": "display_data"
    }
   ],
   "source": [
    "## Se verifica el gráfico de perdida acorde a los epochs\n",
    "#Imprimimos gráfico de funión de pérdida acorde los epochs\n",
    "hist = pd.DataFrame(history.history)\n",
    "hist['epoch'] = history.epoch\n",
    "\n",
    "plot_data = [\n",
    "    go.Scatter(\n",
    "        x=hist['epoch'],\n",
    "        y=hist['loss'],\n",
    "        name='loss'\n",
    "    )\n",
    "]\n",
    "\n",
    "plot_layout = go.Layout(\n",
    "        title='Training loss')\n",
    "fig = go.Figure(data=plot_data, layout=plot_layout)\n",
    "fig.show()"
   ]
  },
  {
   "cell_type": "markdown",
   "metadata": {},
   "source": [
    "#### Prueba"
   ]
  },
  {
   "cell_type": "code",
   "execution_count": 72,
   "metadata": {},
   "outputs": [
    {
     "name": "stdout",
     "output_type": "stream",
     "text": [
      "12/12 [==============================] - 0s 909us/step\n"
     ]
    }
   ],
   "source": [
    "#Predicción en el set de prueba:\n",
    "prediction = model.predict(test_generator)\n",
    "\n",
    "#Se pasa el tipo de datos de tensores a datos de una dimensión, se aplica la función reshape.\n",
    "close_train = close_train.reshape((-1))\n",
    "close_test = close_test.reshape((-1))\n",
    "prediction = prediction.reshape((-1))"
   ]
  },
  {
   "cell_type": "code",
   "execution_count": 73,
   "metadata": {},
   "outputs": [
    {
     "data": {
      "text/plain": [
       "array([182.09909, 183.38013, 184.51906, 185.00534, 185.73688, 185.6554 ,\n",
       "       185.09909, 183.90211, 183.21417, 182.97488, 182.99202, 183.33124],\n",
       "      dtype=float32)"
      ]
     },
     "execution_count": 73,
     "metadata": {},
     "output_type": "execute_result"
    }
   ],
   "source": [
    "prediction"
   ]
  },
  {
   "cell_type": "code",
   "execution_count": 74,
   "metadata": {},
   "outputs": [
    {
     "data": {
      "application/vnd.plotly.v1+json": {
       "config": {
        "plotlyServerURL": "https://plot.ly"
       },
       "data": [
        {
         "mode": "lines",
         "name": "Data",
         "type": "scatter",
         "x": [
          "2016-05-02T00:00:00",
          "2016-05-03T00:00:00",
          "2016-05-04T00:00:00",
          "2016-05-05T00:00:00",
          "2016-05-06T00:00:00",
          "2016-05-09T00:00:00",
          "2016-05-10T00:00:00",
          "2016-05-11T00:00:00",
          "2016-05-12T00:00:00",
          "2016-05-13T00:00:00",
          "2016-05-16T00:00:00",
          "2016-05-17T00:00:00",
          "2016-05-18T00:00:00",
          "2016-05-19T00:00:00",
          "2016-05-20T00:00:00",
          "2016-05-23T00:00:00",
          "2016-05-24T00:00:00",
          "2016-05-25T00:00:00",
          "2016-05-26T00:00:00",
          "2016-05-27T00:00:00",
          "2016-05-31T00:00:00",
          "2016-06-01T00:00:00",
          "2016-06-02T00:00:00",
          "2016-06-03T00:00:00",
          "2016-06-06T00:00:00",
          "2016-06-07T00:00:00",
          "2016-06-08T00:00:00",
          "2016-06-09T00:00:00",
          "2016-06-10T00:00:00",
          "2016-06-13T00:00:00",
          "2016-06-14T00:00:00",
          "2016-06-15T00:00:00",
          "2016-06-16T00:00:00",
          "2016-06-17T00:00:00",
          "2016-06-20T00:00:00",
          "2016-06-21T00:00:00",
          "2016-06-22T00:00:00",
          "2016-06-23T00:00:00",
          "2016-06-24T00:00:00",
          "2016-06-27T00:00:00",
          "2016-06-28T00:00:00",
          "2016-06-29T00:00:00",
          "2016-06-30T00:00:00",
          "2016-07-01T00:00:00",
          "2016-07-05T00:00:00",
          "2016-07-06T00:00:00",
          "2016-07-07T00:00:00",
          "2016-07-08T00:00:00",
          "2016-07-11T00:00:00",
          "2016-07-12T00:00:00",
          "2016-07-13T00:00:00",
          "2016-07-14T00:00:00",
          "2016-07-15T00:00:00",
          "2016-07-18T00:00:00",
          "2016-07-19T00:00:00",
          "2016-07-20T00:00:00",
          "2016-07-21T00:00:00",
          "2016-07-22T00:00:00",
          "2016-07-25T00:00:00",
          "2016-07-26T00:00:00",
          "2016-07-27T00:00:00",
          "2016-07-28T00:00:00",
          "2016-07-29T00:00:00",
          "2016-08-01T00:00:00",
          "2016-08-02T00:00:00",
          "2016-08-03T00:00:00",
          "2016-08-04T00:00:00",
          "2016-08-05T00:00:00",
          "2016-08-08T00:00:00",
          "2016-08-09T00:00:00",
          "2016-08-10T00:00:00",
          "2016-08-11T00:00:00",
          "2016-08-12T00:00:00",
          "2016-08-15T00:00:00",
          "2016-08-16T00:00:00",
          "2016-08-17T00:00:00",
          "2016-08-18T00:00:00",
          "2016-08-19T00:00:00",
          "2016-08-22T00:00:00",
          "2016-08-23T00:00:00",
          "2016-08-24T00:00:00",
          "2016-08-25T00:00:00",
          "2016-08-26T00:00:00",
          "2016-08-29T00:00:00",
          "2016-08-30T00:00:00",
          "2016-08-31T00:00:00",
          "2016-09-01T00:00:00",
          "2016-09-02T00:00:00",
          "2016-09-06T00:00:00",
          "2016-09-07T00:00:00",
          "2016-09-08T00:00:00",
          "2016-09-09T00:00:00",
          "2016-09-12T00:00:00",
          "2016-09-13T00:00:00",
          "2016-09-14T00:00:00",
          "2016-09-15T00:00:00",
          "2016-09-16T00:00:00",
          "2016-09-19T00:00:00",
          "2016-09-20T00:00:00",
          "2016-09-21T00:00:00",
          "2016-09-22T00:00:00",
          "2016-09-23T00:00:00",
          "2016-09-26T00:00:00",
          "2016-09-27T00:00:00",
          "2016-09-28T00:00:00",
          "2016-09-29T00:00:00",
          "2016-09-30T00:00:00",
          "2016-10-03T00:00:00",
          "2016-10-04T00:00:00",
          "2016-10-05T00:00:00",
          "2016-10-06T00:00:00",
          "2016-10-07T00:00:00",
          "2016-10-10T00:00:00",
          "2016-10-11T00:00:00",
          "2016-10-12T00:00:00",
          "2016-10-13T00:00:00",
          "2016-10-14T00:00:00",
          "2016-10-17T00:00:00",
          "2016-10-18T00:00:00",
          "2016-10-19T00:00:00",
          "2016-10-20T00:00:00",
          "2016-10-21T00:00:00",
          "2016-10-24T00:00:00",
          "2016-10-25T00:00:00",
          "2016-10-26T00:00:00",
          "2016-10-27T00:00:00",
          "2016-10-28T00:00:00",
          "2016-10-31T00:00:00",
          "2016-11-01T00:00:00",
          "2016-11-02T00:00:00",
          "2016-11-03T00:00:00",
          "2016-11-04T00:00:00",
          "2016-11-07T00:00:00",
          "2016-11-08T00:00:00",
          "2016-11-09T00:00:00",
          "2016-11-10T00:00:00",
          "2016-11-11T00:00:00",
          "2016-11-14T00:00:00",
          "2016-11-15T00:00:00",
          "2016-11-16T00:00:00",
          "2016-11-17T00:00:00",
          "2016-11-18T00:00:00",
          "2016-11-21T00:00:00",
          "2016-11-22T00:00:00",
          "2016-11-23T00:00:00",
          "2016-11-25T00:00:00",
          "2016-11-28T00:00:00",
          "2016-11-29T00:00:00",
          "2016-11-30T00:00:00",
          "2016-12-01T00:00:00",
          "2016-12-02T00:00:00",
          "2016-12-05T00:00:00",
          "2016-12-06T00:00:00",
          "2016-12-07T00:00:00",
          "2016-12-08T00:00:00",
          "2016-12-09T00:00:00",
          "2016-12-12T00:00:00",
          "2016-12-13T00:00:00",
          "2016-12-14T00:00:00",
          "2016-12-15T00:00:00",
          "2016-12-16T00:00:00",
          "2016-12-19T00:00:00",
          "2016-12-20T00:00:00",
          "2016-12-21T00:00:00",
          "2016-12-22T00:00:00",
          "2016-12-23T00:00:00",
          "2016-12-27T00:00:00",
          "2016-12-28T00:00:00",
          "2016-12-29T00:00:00",
          "2016-12-30T00:00:00",
          "2017-01-03T00:00:00",
          "2017-01-04T00:00:00",
          "2017-01-05T00:00:00",
          "2017-01-06T00:00:00",
          "2017-01-09T00:00:00",
          "2017-01-10T00:00:00",
          "2017-01-11T00:00:00",
          "2017-01-12T00:00:00",
          "2017-01-13T00:00:00",
          "2017-01-17T00:00:00",
          "2017-01-18T00:00:00",
          "2017-01-19T00:00:00",
          "2017-01-20T00:00:00",
          "2017-01-23T00:00:00",
          "2017-01-24T00:00:00",
          "2017-01-25T00:00:00",
          "2017-01-26T00:00:00",
          "2017-01-27T00:00:00",
          "2017-01-30T00:00:00",
          "2017-01-31T00:00:00",
          "2017-02-01T00:00:00",
          "2017-02-02T00:00:00",
          "2017-02-03T00:00:00",
          "2017-02-06T00:00:00",
          "2017-02-07T00:00:00",
          "2017-02-08T00:00:00",
          "2017-02-09T00:00:00",
          "2017-02-10T00:00:00",
          "2017-02-13T00:00:00",
          "2017-02-14T00:00:00",
          "2017-02-15T00:00:00",
          "2017-02-16T00:00:00",
          "2017-02-17T00:00:00",
          "2017-02-21T00:00:00",
          "2017-02-22T00:00:00",
          "2017-02-23T00:00:00",
          "2017-02-24T00:00:00",
          "2017-02-27T00:00:00",
          "2017-02-28T00:00:00",
          "2017-03-01T00:00:00",
          "2017-03-02T00:00:00",
          "2017-03-03T00:00:00",
          "2017-03-06T00:00:00",
          "2017-03-07T00:00:00",
          "2017-03-08T00:00:00",
          "2017-03-09T00:00:00",
          "2017-03-10T00:00:00",
          "2017-03-13T00:00:00",
          "2017-03-14T00:00:00",
          "2017-03-15T00:00:00",
          "2017-03-16T00:00:00",
          "2017-03-17T00:00:00",
          "2017-03-20T00:00:00",
          "2017-03-21T00:00:00",
          "2017-03-22T00:00:00",
          "2017-03-23T00:00:00",
          "2017-03-24T00:00:00",
          "2017-03-27T00:00:00",
          "2017-03-28T00:00:00",
          "2017-03-29T00:00:00",
          "2017-03-30T00:00:00",
          "2017-03-31T00:00:00",
          "2017-04-03T00:00:00",
          "2017-04-04T00:00:00",
          "2017-04-05T00:00:00",
          "2017-04-06T00:00:00",
          "2017-04-07T00:00:00",
          "2017-04-10T00:00:00",
          "2017-04-11T00:00:00",
          "2017-04-12T00:00:00",
          "2017-04-13T00:00:00",
          "2017-04-17T00:00:00",
          "2017-04-18T00:00:00",
          "2017-04-19T00:00:00",
          "2017-04-20T00:00:00",
          "2017-04-21T00:00:00",
          "2017-04-24T00:00:00",
          "2017-04-25T00:00:00",
          "2017-04-26T00:00:00",
          "2017-04-27T00:00:00",
          "2017-04-28T00:00:00",
          "2017-05-01T00:00:00",
          "2017-05-02T00:00:00",
          "2017-05-03T00:00:00",
          "2017-05-04T00:00:00",
          "2017-05-05T00:00:00",
          "2017-05-08T00:00:00",
          "2017-05-09T00:00:00",
          "2017-05-10T00:00:00",
          "2017-05-11T00:00:00",
          "2017-05-12T00:00:00",
          "2017-05-15T00:00:00",
          "2017-05-16T00:00:00",
          "2017-05-17T00:00:00",
          "2017-05-18T00:00:00",
          "2017-05-19T00:00:00",
          "2017-05-22T00:00:00",
          "2017-05-23T00:00:00",
          "2017-05-24T00:00:00",
          "2017-05-25T00:00:00",
          "2017-05-26T00:00:00",
          "2017-05-30T00:00:00",
          "2017-05-31T00:00:00",
          "2017-06-01T00:00:00",
          "2017-06-02T00:00:00",
          "2017-06-05T00:00:00",
          "2017-06-06T00:00:00",
          "2017-06-07T00:00:00",
          "2017-06-08T00:00:00",
          "2017-06-09T00:00:00",
          "2017-06-12T00:00:00",
          "2017-06-13T00:00:00",
          "2017-06-14T00:00:00",
          "2017-06-15T00:00:00",
          "2017-06-16T00:00:00",
          "2017-06-19T00:00:00",
          "2017-06-20T00:00:00",
          "2017-06-21T00:00:00",
          "2017-06-22T00:00:00",
          "2017-06-23T00:00:00",
          "2017-06-26T00:00:00",
          "2017-06-27T00:00:00",
          "2017-06-28T00:00:00",
          "2017-06-29T00:00:00",
          "2017-06-30T00:00:00",
          "2017-07-03T00:00:00",
          "2017-07-05T00:00:00",
          "2017-07-06T00:00:00",
          "2017-07-07T00:00:00",
          "2017-07-10T00:00:00",
          "2017-07-11T00:00:00",
          "2017-07-12T00:00:00",
          "2017-07-13T00:00:00",
          "2017-07-14T00:00:00",
          "2017-07-17T00:00:00",
          "2017-07-18T00:00:00",
          "2017-07-19T00:00:00",
          "2017-07-20T00:00:00",
          "2017-07-21T00:00:00",
          "2017-07-24T00:00:00",
          "2017-07-25T00:00:00",
          "2017-07-26T00:00:00",
          "2017-07-27T00:00:00",
          "2017-07-28T00:00:00",
          "2017-07-31T00:00:00",
          "2017-08-01T00:00:00",
          "2017-08-02T00:00:00",
          "2017-08-03T00:00:00",
          "2017-08-04T00:00:00",
          "2017-08-07T00:00:00",
          "2017-08-08T00:00:00",
          "2017-08-09T00:00:00",
          "2017-08-10T00:00:00",
          "2017-08-11T00:00:00",
          "2017-08-14T00:00:00",
          "2017-08-15T00:00:00",
          "2017-08-16T00:00:00",
          "2017-08-17T00:00:00",
          "2017-08-18T00:00:00",
          "2017-08-21T00:00:00",
          "2017-08-22T00:00:00",
          "2017-08-23T00:00:00",
          "2017-08-24T00:00:00",
          "2017-08-25T00:00:00",
          "2017-08-28T00:00:00",
          "2017-08-29T00:00:00",
          "2017-08-30T00:00:00",
          "2017-08-31T00:00:00",
          "2017-09-01T00:00:00",
          "2017-09-05T00:00:00",
          "2017-09-06T00:00:00",
          "2017-09-07T00:00:00",
          "2017-09-08T00:00:00",
          "2017-09-11T00:00:00",
          "2017-09-12T00:00:00",
          "2017-09-13T00:00:00",
          "2017-09-14T00:00:00",
          "2017-09-15T00:00:00",
          "2017-09-18T00:00:00",
          "2017-09-19T00:00:00",
          "2017-09-20T00:00:00",
          "2017-09-21T00:00:00",
          "2017-09-22T00:00:00",
          "2017-09-25T00:00:00",
          "2017-09-26T00:00:00",
          "2017-09-27T00:00:00",
          "2017-09-28T00:00:00",
          "2017-09-29T00:00:00",
          "2017-10-02T00:00:00",
          "2017-10-03T00:00:00",
          "2017-10-04T00:00:00",
          "2017-10-05T00:00:00",
          "2017-10-06T00:00:00",
          "2017-10-09T00:00:00",
          "2017-10-10T00:00:00",
          "2017-10-11T00:00:00",
          "2017-10-12T00:00:00",
          "2017-10-13T00:00:00",
          "2017-10-16T00:00:00",
          "2017-10-17T00:00:00",
          "2017-10-18T00:00:00",
          "2017-10-19T00:00:00",
          "2017-10-20T00:00:00",
          "2017-10-23T00:00:00",
          "2017-10-24T00:00:00",
          "2017-10-25T00:00:00",
          "2017-10-26T00:00:00",
          "2017-10-27T00:00:00",
          "2017-10-30T00:00:00",
          "2017-10-31T00:00:00",
          "2017-11-01T00:00:00",
          "2017-11-02T00:00:00",
          "2017-11-03T00:00:00",
          "2017-11-06T00:00:00",
          "2017-11-07T00:00:00",
          "2017-11-08T00:00:00",
          "2017-11-09T00:00:00",
          "2017-11-10T00:00:00",
          "2017-11-13T00:00:00",
          "2017-11-14T00:00:00",
          "2017-11-15T00:00:00",
          "2017-11-16T00:00:00",
          "2017-11-17T00:00:00",
          "2017-11-20T00:00:00",
          "2017-11-21T00:00:00",
          "2017-11-22T00:00:00",
          "2017-11-24T00:00:00",
          "2017-11-27T00:00:00",
          "2017-11-28T00:00:00",
          "2017-11-29T00:00:00",
          "2017-11-30T00:00:00",
          "2017-12-01T00:00:00",
          "2017-12-04T00:00:00",
          "2017-12-05T00:00:00",
          "2017-12-06T00:00:00",
          "2017-12-07T00:00:00",
          "2017-12-08T00:00:00",
          "2017-12-11T00:00:00",
          "2017-12-12T00:00:00",
          "2017-12-13T00:00:00",
          "2017-12-14T00:00:00",
          "2017-12-15T00:00:00",
          "2017-12-18T00:00:00",
          "2017-12-19T00:00:00",
          "2017-12-20T00:00:00",
          "2017-12-21T00:00:00",
          "2017-12-22T00:00:00"
         ],
         "y": [
          118.56999969482422,
          117.43000030517578,
          118.05999755859375,
          117.80999755859375,
          119.48999786376953,
          119.23999786376953,
          120.5,
          119.5199966430664,
          120.27999877929688,
          119.80999755859375,
          118.66999816894531,
          117.3499984741211,
          117.6500015258789,
          116.80999755859375,
          117.3499984741211,
          115.97000122070312,
          117.69999694824219,
          117.88999938964844,
          119.47000122070312,
          119.37999725341797,
          118.80999755859375,
          118.77999877929688,
          118.93000030517578,
          118.47000122070312,
          118.79000091552734,
          117.76000213623047,
          118.38999938964844,
          118.55999755859375,
          116.62000274658203,
          113.94999694824219,
          114.94000244140625,
          114.5999984741211,
          114.38999938964844,
          113.0199966430664,
          113.37000274658203,
          114.37999725341797,
          113.91000366210938,
          115.08000183105469,
          112.08000183105469,
          108.97000122070312,
          112.69999694824219,
          114.16000366210938,
          114.27999877929688,
          114.19000244140625,
          114.19999694824219,
          116.69999694824219,
          115.8499984741211,
          117.23999786376953,
          117.87000274658203,
          117.93000030517578,
          116.77999877929688,
          117.29000091552734,
          116.86000061035156,
          119.37000274658203,
          120.61000061035156,
          121.91999816894531,
          120.61000061035156,
          121,
          121.62999725341797,
          121.22000122070312,
          123.33999633789062,
          125,
          123.94000244140625,
          124.30999755859375,
          123.08999633789062,
          122.51000213623047,
          124.36000061035156,
          125.1500015258789,
          125.26000213623047,
          125.05999755859375,
          124.87999725341797,
          124.9000015258789,
          124.87999725341797,
          123.9000015258789,
          123.30000305175781,
          124.37000274658203,
          123.91000366210938,
          123.55999755859375,
          124.1500015258789,
          124.37000274658203,
          123.4800033569336,
          123.88999938964844,
          124.95999908447266,
          126.54000091552734,
          125.83999633789062,
          126.12000274658203,
          126.16999816894531,
          126.51000213623047,
          129.72999572753906,
          131.0500030517578,
          130.27000427246094,
          127.0999984741211,
          128.69000244140625,
          127.20999908447266,
          127.7699966430664,
          128.35000610351562,
          129.07000732421875,
          128.64999389648438,
          128.63999938964844,
          129.94000244140625,
          130.0800018310547,
          127.95999908447266,
          127.30999755859375,
          128.69000244140625,
          129.22999572753906,
          128.08999633789062,
          128.27000427246094,
          128.77000427246094,
          128.19000244140625,
          128.47000122070312,
          128.74000549316406,
          128.99000549316406,
          130.24000549316406,
          128.8800048828125,
          129.0500030517578,
          127.81999969482422,
          127.87999725341797,
          127.54000091552734,
          128.57000732421875,
          130.11000061035156,
          130,
          132.07000732421875,
          133.27999877929688,
          132.2899932861328,
          131.0399932861328,
          129.69000244140625,
          131.2899932861328,
          130.99000549316406,
          129.5,
          127.16999816894531,
          120,
          120.75,
          122.1500015258789,
          124.22000122070312,
          123.18000030517578,
          120.80000305175781,
          119.0199966430664,
          115.08000183105469,
          117.19999694824219,
          116.33999633789062,
          117.79000091552734,
          117.0199966430664,
          121.7699966430664,
          121.47000122070312,
          120.83999633789062,
          120.37999725341797,
          120.41000366210938,
          120.87000274658203,
          118.41999816894531,
          115.0999984741211,
          115.4000015258789,
          117.43000030517578,
          117.30999755859375,
          117.94999694824219,
          118.91000366210938,
          119.68000030517578,
          117.7699966430664,
          120.30999755859375,
          120.20999908447266,
          120.56999969482422,
          119.87000274658203,
          119.23999786376953,
          119.08999633789062,
          119.04000091552734,
          117.4000015258789,
          117.2699966430664,
          118.01000213623047,
          116.91999816894531,
          116.3499984741211,
          115.05000305175781,
          116.86000061035156,
          118.69000244140625,
          120.66999816894531,
          123.41000366210938,
          124.9000015258789,
          124.3499984741211,
          126.08999633789062,
          126.62000274658203,
          128.33999633789062,
          127.87000274658203,
          127.91999816894531,
          127.55000305175781,
          127.04000091552734,
          128.92999267578125,
          129.3699951171875,
          131.47999572753906,
          132.77999877929688,
          132.17999267578125,
          130.97999572753906,
          130.32000732421875,
          133.22999572753906,
          130.83999633789062,
          130.97999572753906,
          132.05999755859375,
          131.83999633789062,
          134.1999969482422,
          134.13999938964844,
          134.19000244140625,
          134.0500030517578,
          133.85000610351562,
          133.44000244140625,
          133.83999633789062,
          133.52999877929688,
          133.72000122070312,
          136.1199951171875,
          135.36000061035156,
          135.44000244140625,
          136.41000366210938,
          135.5399932861328,
          137.4199981689453,
          136.75999450683594,
          137.1699981689453,
          137.4199981689453,
          137.3000030517578,
          137.72000122070312,
          138.24000549316406,
          138.7899932861328,
          139.60000610351562,
          139.32000732421875,
          139.72000122070312,
          139.99000549316406,
          139.83999633789062,
          139.94000244140625,
          138.50999450683594,
          139.58999633789062,
          139.52999877929688,
          140.33999633789062,
          140.32000732421875,
          141.75999450683594,
          142.64999389648438,
          142.41000366210938,
          142.0500030517578,
          142.27999877929688,
          141.72999572753906,
          141.85000610351562,
          141.1699981689453,
          140.77999877929688,
          141.0399932861328,
          139.9199981689453,
          139.5800018310547,
          139.38999938964844,
          141.4199981689453,
          140.9600067138672,
          142.27000427246094,
          143.8000030517578,
          143.67999267578125,
          145.47000122070312,
          146.49000549316406,
          146.55999755859375,
          147.6999969482422,
          150.25,
          152.4600067138672,
          152.77999877929688,
          151.8000030517578,
          150.85000610351562,
          150.24000549316406,
          151.05999755859375,
          150.47999572753906,
          150.2899932861328,
          150.0399932861328,
          150.3300018310547,
          150.19000244140625,
          149.77999877929688,
          144.85000610351562,
          147.66000366210938,
          148.05999755859375,
          148.24000549316406,
          148.07000732421875,
          150.0399932861328,
          151.9600067138672,
          152.1300048828125,
          152.3800048828125,
          151.4600067138672,
          151.52999877929688,
          153.61000061035156,
          153.6300048828125,
          152.80999755859375,
          153.1199951171875,
          154.7100067138672,
          149.60000610351562,
          148.44000244140625,
          150.67999267578125,
          150.25,
          149.8000030517578,
          150.63999938964844,
          152.8699951171875,
          152.25,
          153.91000366210938,
          153.39999389648438,
          155.07000732421875,
          153.58999633789062,
          150.5800018310547,
          153.24000549316406,
          151.0399932861328,
          150.97999572753906,
          148.42999267578125,
          150.33999633789062,
          148.82000732421875,
          151.44000244140625,
          153.5,
          155.27000427246094,
          158.89999389648438,
          159.25999450683594,
          159.97000122070312,
          159.72999572753906,
          162.86000061035156,
          164.13999938964844,
          164.52999877929688,
          164.42999267578125,
          166,
          165.27999877929688,
          165.61000061035156,
          170.44000244140625,
          172.4499969482422,
          169.25,
          169.86000061035156,
          169.3000030517578,
          168.58999633789062,
          169.6199951171875,
          171.97999572753906,
          171.22999572753906,
          171.17999267578125,
          167.39999389648438,
          168.0800018310547,
          170.75,
          171,
          170,
          166.91000366210938,
          167.41000366210938,
          167.77999877929688,
          169.63999938964844,
          168.7100067138672,
          167.74000549316406,
          166.32000732421875,
          167.24000549316406,
          168.0500030517578,
          169.9199981689453,
          171.97000122070312,
          172.02000427246094,
          170.72000122070312,
          172.08999633789062,
          173.2100067138672,
          170.9499969482422,
          173.50999450683594,
          172.9600067138672,
          173.0500030517578,
          170.9600067138672,
          171.63999938964844,
          170.00999450683594,
          172.52000427246094,
          172.1699981689453,
          171.11000061035156,
          170.5399932861328,
          162.8699951171875,
          164.2100067138672,
          167.67999267578125,
          168.72999572753906,
          170.8699951171875,
          169.47000122070312,
          169.9600067138672,
          168.4199981689453,
          171.24000549316406,
          172.22999572753906,
          172.5,
          171.58999633789062,
          172.74000549316406,
          172.5500030517578,
          173.74000549316406,
          174.52000427246094,
          176.11000061035156,
          176.02999877929688,
          174.55999755859375,
          174.97999572753906,
          171.27000427246094,
          171.8000030517578,
          170.60000610351562,
          170.6300048828125,
          177.8800048828125,
          179.8699951171875,
          180.05999755859375,
          182.66000366210938,
          178.9199981689453,
          178.9199981689453,
          180.1699981689453,
          180.25,
          179.55999755859375,
          179.3000030517578,
          178.4600067138672,
          178.77000427246094,
          178.07000732421875,
          177.9499969482422,
          179.58999633789062,
          179,
          178.74000549316406,
          181.86000061035156,
          180.8699951171875,
          182.77999877929688,
          183.02999877929688,
          182.4199981689453,
          175.1300048828125,
          177.17999267578125,
          175.10000610351562,
          171.47000122070312,
          172.8300018310547,
          176.05999755859375,
          180.13999938964844,
          179,
          179.0399932861328,
          176.9600067138672,
          178.3000030517578,
          178.38999938964844,
          180.17999267578125,
          180.82000732421875,
          179.50999450683594,
          177.88999938964844,
          177.4499969482422,
          177.1999969482422
         ]
        },
        {
         "mode": "lines",
         "name": "Prediction",
         "type": "scatter",
         "x": [
          "2017-12-26T00:00:00",
          "2017-12-27T00:00:00",
          "2017-12-28T00:00:00",
          "2017-12-29T00:00:00",
          "2018-01-02T00:00:00",
          "2018-01-03T00:00:00",
          "2018-01-04T00:00:00",
          "2018-01-05T00:00:00",
          "2018-01-08T00:00:00",
          "2018-01-09T00:00:00",
          "2018-01-10T00:00:00",
          "2018-01-11T00:00:00",
          "2018-01-12T00:00:00",
          "2018-01-16T00:00:00",
          "2018-01-17T00:00:00",
          "2018-01-18T00:00:00",
          "2018-01-19T00:00:00",
          "2018-01-22T00:00:00",
          "2018-01-23T00:00:00",
          "2018-01-24T00:00:00",
          "2018-01-25T00:00:00",
          "2018-01-26T00:00:00"
         ],
         "y": [
          182.09909,
          183.38013,
          184.51906,
          185.00534,
          185.73688,
          185.6554,
          185.09909,
          183.90211,
          183.21417,
          182.97488,
          182.99202,
          183.33124
         ]
        },
        {
         "mode": "lines",
         "name": "Reality",
         "type": "scatter",
         "x": [
          "2017-12-26T00:00:00",
          "2017-12-27T00:00:00",
          "2017-12-28T00:00:00",
          "2017-12-29T00:00:00",
          "2018-01-02T00:00:00",
          "2018-01-03T00:00:00",
          "2018-01-04T00:00:00",
          "2018-01-05T00:00:00",
          "2018-01-08T00:00:00",
          "2018-01-09T00:00:00",
          "2018-01-10T00:00:00",
          "2018-01-11T00:00:00",
          "2018-01-12T00:00:00",
          "2018-01-16T00:00:00",
          "2018-01-17T00:00:00",
          "2018-01-18T00:00:00",
          "2018-01-19T00:00:00",
          "2018-01-22T00:00:00",
          "2018-01-23T00:00:00",
          "2018-01-24T00:00:00",
          "2018-01-25T00:00:00",
          "2018-01-26T00:00:00"
         ],
         "y": [
          175.99000549316406,
          177.6199951171875,
          177.9199981689453,
          176.4600067138672,
          181.4199981689453,
          184.6699981689453,
          184.3300018310547,
          186.85000610351562,
          188.27999877929688,
          187.8699951171875,
          187.83999633789062,
          187.77000427246094,
          179.3699951171875,
          178.38999938964844,
          177.60000610351562,
          179.8000030517578,
          181.2899932861328,
          185.3699951171875,
          189.35000610351562,
          186.5500030517578,
          187.47999572753906,
          190
         ]
        }
       ],
       "layout": {
        "template": {
         "data": {
          "bar": [
           {
            "error_x": {
             "color": "#2a3f5f"
            },
            "error_y": {
             "color": "#2a3f5f"
            },
            "marker": {
             "line": {
              "color": "#E5ECF6",
              "width": 0.5
             },
             "pattern": {
              "fillmode": "overlay",
              "size": 10,
              "solidity": 0.2
             }
            },
            "type": "bar"
           }
          ],
          "barpolar": [
           {
            "marker": {
             "line": {
              "color": "#E5ECF6",
              "width": 0.5
             },
             "pattern": {
              "fillmode": "overlay",
              "size": 10,
              "solidity": 0.2
             }
            },
            "type": "barpolar"
           }
          ],
          "carpet": [
           {
            "aaxis": {
             "endlinecolor": "#2a3f5f",
             "gridcolor": "white",
             "linecolor": "white",
             "minorgridcolor": "white",
             "startlinecolor": "#2a3f5f"
            },
            "baxis": {
             "endlinecolor": "#2a3f5f",
             "gridcolor": "white",
             "linecolor": "white",
             "minorgridcolor": "white",
             "startlinecolor": "#2a3f5f"
            },
            "type": "carpet"
           }
          ],
          "choropleth": [
           {
            "colorbar": {
             "outlinewidth": 0,
             "ticks": ""
            },
            "type": "choropleth"
           }
          ],
          "contour": [
           {
            "colorbar": {
             "outlinewidth": 0,
             "ticks": ""
            },
            "colorscale": [
             [
              0,
              "#0d0887"
             ],
             [
              0.1111111111111111,
              "#46039f"
             ],
             [
              0.2222222222222222,
              "#7201a8"
             ],
             [
              0.3333333333333333,
              "#9c179e"
             ],
             [
              0.4444444444444444,
              "#bd3786"
             ],
             [
              0.5555555555555556,
              "#d8576b"
             ],
             [
              0.6666666666666666,
              "#ed7953"
             ],
             [
              0.7777777777777778,
              "#fb9f3a"
             ],
             [
              0.8888888888888888,
              "#fdca26"
             ],
             [
              1,
              "#f0f921"
             ]
            ],
            "type": "contour"
           }
          ],
          "contourcarpet": [
           {
            "colorbar": {
             "outlinewidth": 0,
             "ticks": ""
            },
            "type": "contourcarpet"
           }
          ],
          "heatmap": [
           {
            "colorbar": {
             "outlinewidth": 0,
             "ticks": ""
            },
            "colorscale": [
             [
              0,
              "#0d0887"
             ],
             [
              0.1111111111111111,
              "#46039f"
             ],
             [
              0.2222222222222222,
              "#7201a8"
             ],
             [
              0.3333333333333333,
              "#9c179e"
             ],
             [
              0.4444444444444444,
              "#bd3786"
             ],
             [
              0.5555555555555556,
              "#d8576b"
             ],
             [
              0.6666666666666666,
              "#ed7953"
             ],
             [
              0.7777777777777778,
              "#fb9f3a"
             ],
             [
              0.8888888888888888,
              "#fdca26"
             ],
             [
              1,
              "#f0f921"
             ]
            ],
            "type": "heatmap"
           }
          ],
          "heatmapgl": [
           {
            "colorbar": {
             "outlinewidth": 0,
             "ticks": ""
            },
            "colorscale": [
             [
              0,
              "#0d0887"
             ],
             [
              0.1111111111111111,
              "#46039f"
             ],
             [
              0.2222222222222222,
              "#7201a8"
             ],
             [
              0.3333333333333333,
              "#9c179e"
             ],
             [
              0.4444444444444444,
              "#bd3786"
             ],
             [
              0.5555555555555556,
              "#d8576b"
             ],
             [
              0.6666666666666666,
              "#ed7953"
             ],
             [
              0.7777777777777778,
              "#fb9f3a"
             ],
             [
              0.8888888888888888,
              "#fdca26"
             ],
             [
              1,
              "#f0f921"
             ]
            ],
            "type": "heatmapgl"
           }
          ],
          "histogram": [
           {
            "marker": {
             "pattern": {
              "fillmode": "overlay",
              "size": 10,
              "solidity": 0.2
             }
            },
            "type": "histogram"
           }
          ],
          "histogram2d": [
           {
            "colorbar": {
             "outlinewidth": 0,
             "ticks": ""
            },
            "colorscale": [
             [
              0,
              "#0d0887"
             ],
             [
              0.1111111111111111,
              "#46039f"
             ],
             [
              0.2222222222222222,
              "#7201a8"
             ],
             [
              0.3333333333333333,
              "#9c179e"
             ],
             [
              0.4444444444444444,
              "#bd3786"
             ],
             [
              0.5555555555555556,
              "#d8576b"
             ],
             [
              0.6666666666666666,
              "#ed7953"
             ],
             [
              0.7777777777777778,
              "#fb9f3a"
             ],
             [
              0.8888888888888888,
              "#fdca26"
             ],
             [
              1,
              "#f0f921"
             ]
            ],
            "type": "histogram2d"
           }
          ],
          "histogram2dcontour": [
           {
            "colorbar": {
             "outlinewidth": 0,
             "ticks": ""
            },
            "colorscale": [
             [
              0,
              "#0d0887"
             ],
             [
              0.1111111111111111,
              "#46039f"
             ],
             [
              0.2222222222222222,
              "#7201a8"
             ],
             [
              0.3333333333333333,
              "#9c179e"
             ],
             [
              0.4444444444444444,
              "#bd3786"
             ],
             [
              0.5555555555555556,
              "#d8576b"
             ],
             [
              0.6666666666666666,
              "#ed7953"
             ],
             [
              0.7777777777777778,
              "#fb9f3a"
             ],
             [
              0.8888888888888888,
              "#fdca26"
             ],
             [
              1,
              "#f0f921"
             ]
            ],
            "type": "histogram2dcontour"
           }
          ],
          "mesh3d": [
           {
            "colorbar": {
             "outlinewidth": 0,
             "ticks": ""
            },
            "type": "mesh3d"
           }
          ],
          "parcoords": [
           {
            "line": {
             "colorbar": {
              "outlinewidth": 0,
              "ticks": ""
             }
            },
            "type": "parcoords"
           }
          ],
          "pie": [
           {
            "automargin": true,
            "type": "pie"
           }
          ],
          "scatter": [
           {
            "marker": {
             "colorbar": {
              "outlinewidth": 0,
              "ticks": ""
             }
            },
            "type": "scatter"
           }
          ],
          "scatter3d": [
           {
            "line": {
             "colorbar": {
              "outlinewidth": 0,
              "ticks": ""
             }
            },
            "marker": {
             "colorbar": {
              "outlinewidth": 0,
              "ticks": ""
             }
            },
            "type": "scatter3d"
           }
          ],
          "scattercarpet": [
           {
            "marker": {
             "colorbar": {
              "outlinewidth": 0,
              "ticks": ""
             }
            },
            "type": "scattercarpet"
           }
          ],
          "scattergeo": [
           {
            "marker": {
             "colorbar": {
              "outlinewidth": 0,
              "ticks": ""
             }
            },
            "type": "scattergeo"
           }
          ],
          "scattergl": [
           {
            "marker": {
             "colorbar": {
              "outlinewidth": 0,
              "ticks": ""
             }
            },
            "type": "scattergl"
           }
          ],
          "scattermapbox": [
           {
            "marker": {
             "colorbar": {
              "outlinewidth": 0,
              "ticks": ""
             }
            },
            "type": "scattermapbox"
           }
          ],
          "scatterpolar": [
           {
            "marker": {
             "colorbar": {
              "outlinewidth": 0,
              "ticks": ""
             }
            },
            "type": "scatterpolar"
           }
          ],
          "scatterpolargl": [
           {
            "marker": {
             "colorbar": {
              "outlinewidth": 0,
              "ticks": ""
             }
            },
            "type": "scatterpolargl"
           }
          ],
          "scatterternary": [
           {
            "marker": {
             "colorbar": {
              "outlinewidth": 0,
              "ticks": ""
             }
            },
            "type": "scatterternary"
           }
          ],
          "surface": [
           {
            "colorbar": {
             "outlinewidth": 0,
             "ticks": ""
            },
            "colorscale": [
             [
              0,
              "#0d0887"
             ],
             [
              0.1111111111111111,
              "#46039f"
             ],
             [
              0.2222222222222222,
              "#7201a8"
             ],
             [
              0.3333333333333333,
              "#9c179e"
             ],
             [
              0.4444444444444444,
              "#bd3786"
             ],
             [
              0.5555555555555556,
              "#d8576b"
             ],
             [
              0.6666666666666666,
              "#ed7953"
             ],
             [
              0.7777777777777778,
              "#fb9f3a"
             ],
             [
              0.8888888888888888,
              "#fdca26"
             ],
             [
              1,
              "#f0f921"
             ]
            ],
            "type": "surface"
           }
          ],
          "table": [
           {
            "cells": {
             "fill": {
              "color": "#EBF0F8"
             },
             "line": {
              "color": "white"
             }
            },
            "header": {
             "fill": {
              "color": "#C8D4E3"
             },
             "line": {
              "color": "white"
             }
            },
            "type": "table"
           }
          ]
         },
         "layout": {
          "annotationdefaults": {
           "arrowcolor": "#2a3f5f",
           "arrowhead": 0,
           "arrowwidth": 1
          },
          "autotypenumbers": "strict",
          "coloraxis": {
           "colorbar": {
            "outlinewidth": 0,
            "ticks": ""
           }
          },
          "colorscale": {
           "diverging": [
            [
             0,
             "#8e0152"
            ],
            [
             0.1,
             "#c51b7d"
            ],
            [
             0.2,
             "#de77ae"
            ],
            [
             0.3,
             "#f1b6da"
            ],
            [
             0.4,
             "#fde0ef"
            ],
            [
             0.5,
             "#f7f7f7"
            ],
            [
             0.6,
             "#e6f5d0"
            ],
            [
             0.7,
             "#b8e186"
            ],
            [
             0.8,
             "#7fbc41"
            ],
            [
             0.9,
             "#4d9221"
            ],
            [
             1,
             "#276419"
            ]
           ],
           "sequential": [
            [
             0,
             "#0d0887"
            ],
            [
             0.1111111111111111,
             "#46039f"
            ],
            [
             0.2222222222222222,
             "#7201a8"
            ],
            [
             0.3333333333333333,
             "#9c179e"
            ],
            [
             0.4444444444444444,
             "#bd3786"
            ],
            [
             0.5555555555555556,
             "#d8576b"
            ],
            [
             0.6666666666666666,
             "#ed7953"
            ],
            [
             0.7777777777777778,
             "#fb9f3a"
            ],
            [
             0.8888888888888888,
             "#fdca26"
            ],
            [
             1,
             "#f0f921"
            ]
           ],
           "sequentialminus": [
            [
             0,
             "#0d0887"
            ],
            [
             0.1111111111111111,
             "#46039f"
            ],
            [
             0.2222222222222222,
             "#7201a8"
            ],
            [
             0.3333333333333333,
             "#9c179e"
            ],
            [
             0.4444444444444444,
             "#bd3786"
            ],
            [
             0.5555555555555556,
             "#d8576b"
            ],
            [
             0.6666666666666666,
             "#ed7953"
            ],
            [
             0.7777777777777778,
             "#fb9f3a"
            ],
            [
             0.8888888888888888,
             "#fdca26"
            ],
            [
             1,
             "#f0f921"
            ]
           ]
          },
          "colorway": [
           "#636efa",
           "#EF553B",
           "#00cc96",
           "#ab63fa",
           "#FFA15A",
           "#19d3f3",
           "#FF6692",
           "#B6E880",
           "#FF97FF",
           "#FECB52"
          ],
          "font": {
           "color": "#2a3f5f"
          },
          "geo": {
           "bgcolor": "white",
           "lakecolor": "white",
           "landcolor": "#E5ECF6",
           "showlakes": true,
           "showland": true,
           "subunitcolor": "white"
          },
          "hoverlabel": {
           "align": "left"
          },
          "hovermode": "closest",
          "mapbox": {
           "style": "light"
          },
          "paper_bgcolor": "white",
          "plot_bgcolor": "#E5ECF6",
          "polar": {
           "angularaxis": {
            "gridcolor": "white",
            "linecolor": "white",
            "ticks": ""
           },
           "bgcolor": "#E5ECF6",
           "radialaxis": {
            "gridcolor": "white",
            "linecolor": "white",
            "ticks": ""
           }
          },
          "scene": {
           "xaxis": {
            "backgroundcolor": "#E5ECF6",
            "gridcolor": "white",
            "gridwidth": 2,
            "linecolor": "white",
            "showbackground": true,
            "ticks": "",
            "zerolinecolor": "white"
           },
           "yaxis": {
            "backgroundcolor": "#E5ECF6",
            "gridcolor": "white",
            "gridwidth": 2,
            "linecolor": "white",
            "showbackground": true,
            "ticks": "",
            "zerolinecolor": "white"
           },
           "zaxis": {
            "backgroundcolor": "#E5ECF6",
            "gridcolor": "white",
            "gridwidth": 2,
            "linecolor": "white",
            "showbackground": true,
            "ticks": "",
            "zerolinecolor": "white"
           }
          },
          "shapedefaults": {
           "line": {
            "color": "#2a3f5f"
           }
          },
          "ternary": {
           "aaxis": {
            "gridcolor": "white",
            "linecolor": "white",
            "ticks": ""
           },
           "baxis": {
            "gridcolor": "white",
            "linecolor": "white",
            "ticks": ""
           },
           "bgcolor": "#E5ECF6",
           "caxis": {
            "gridcolor": "white",
            "linecolor": "white",
            "ticks": ""
           }
          },
          "title": {
           "x": 0.05
          },
          "xaxis": {
           "automargin": true,
           "gridcolor": "white",
           "linecolor": "white",
           "ticks": "",
           "title": {
            "standoff": 15
           },
           "zerolinecolor": "white",
           "zerolinewidth": 2
          },
          "yaxis": {
           "automargin": true,
           "gridcolor": "white",
           "linecolor": "white",
           "ticks": "",
           "title": {
            "standoff": 15
           },
           "zerolinecolor": "white",
           "zerolinewidth": 2
          }
         }
        },
        "title": {
         "text": "META Stock"
        },
        "xaxis": {
         "title": {
          "text": "Date"
         }
        },
        "yaxis": {
         "title": {
          "text": "Close"
         }
        }
       }
      }
     },
     "metadata": {},
     "output_type": "display_data"
    }
   ],
   "source": [
    "#Se hace una gráfica rápida para comparar la realidad con la predicción.\n",
    "trace1 = go.Scatter(\n",
    "    x = date_train,\n",
    "    y = close_train,\n",
    "    mode = 'lines',\n",
    "    name = 'Data'\n",
    ")\n",
    "trace2 = go.Scatter(\n",
    "    x = date_test,\n",
    "    y = prediction,\n",
    "    mode = 'lines',\n",
    "    name = 'Prediction'\n",
    ")\n",
    "trace3 = go.Scatter(\n",
    "    x = date_test,\n",
    "    y = close_test,\n",
    "    mode='lines',\n",
    "    name = 'Reality'\n",
    ")\n",
    "layout = go.Layout(\n",
    "    title = \"META Stock\",\n",
    "    xaxis = {'title' : \"Date\"},\n",
    "    yaxis = {'title' : \"Close\"}\n",
    ")\n",
    "fig = go.Figure(data=[trace1, trace2, trace3], layout=layout)\n",
    "fig.show()"
   ]
  },
  {
   "cell_type": "code",
   "execution_count": 76,
   "metadata": {},
   "outputs": [
    {
     "name": "stdout",
     "output_type": "stream",
     "text": [
      "12/12 [==============================] - 0s 1ms/step - loss: 29.5588 - mse: 29.5588 - mae: 5.1693 - mape: 2.8137\n",
      "Mean Squared Error (MSE): 29.558761596679688\n",
      "Mean Absolute Error (MAE): 5.1693267822265625\n",
      "Mean Absolute Percentage Error (MAPE): 2.813737630844116\n"
     ]
    }
   ],
   "source": [
    "# Evaluar el modelo en los datos de prueba\n",
    "mse, _, mae, mape = model.evaluate(test_generator)\n",
    "\n",
    "print('Mean Squared Error (MSE):', mse)\n",
    "print('Mean Absolute Error (MAE):', mae)\n",
    "print('Mean Absolute Percentage Error (MAPE):', mape)"
   ]
  },
  {
   "cell_type": "code",
   "execution_count": 77,
   "metadata": {},
   "outputs": [],
   "source": [
    "# Ajustar close_test para que tenga la misma longitud que las predicciones\n",
    "close_test_recortado = close_test[-len(prediction):]\n",
    "# Calcula el error cuadrático medio (MSE) manualmente\n",
    "mse = np.mean((prediction - close_test_recortado)**2)\n"
   ]
  },
  {
   "cell_type": "code",
   "execution_count": 78,
   "metadata": {},
   "outputs": [
    {
     "data": {
      "text/plain": [
       "29.55892105398622"
      ]
     },
     "execution_count": 78,
     "metadata": {},
     "output_type": "execute_result"
    }
   ],
   "source": [
    "mse"
   ]
  },
  {
   "cell_type": "markdown",
   "metadata": {},
   "source": [
    "### Pronóstico hacia adelante\n",
    "\n",
    "Con base en lo aprendido en el tutorial se procede a realizar el pronóstico hacia adelante"
   ]
  },
  {
   "cell_type": "code",
   "execution_count": 83,
   "metadata": {},
   "outputs": [
    {
     "data": {
      "text/plain": [
       "Timestamp('2018-01-26 00:00:00')"
      ]
     },
     "execution_count": 83,
     "metadata": {},
     "output_type": "execute_result"
    }
   ],
   "source": [
    "## Se identifica el valor de la última posición de la serie\n",
    "dataindex.max()"
   ]
  },
  {
   "cell_type": "code",
   "execution_count": 84,
   "metadata": {},
   "outputs": [
    {
     "name": "stdout",
     "output_type": "stream",
     "text": [
      "1/1 [==============================] - 0s 15ms/step\n",
      "1/1 [==============================] - 0s 15ms/step\n",
      "1/1 [==============================] - 0s 15ms/step\n",
      "1/1 [==============================] - 0s 15ms/step\n",
      "1/1 [==============================] - 0s 15ms/step\n",
      "1/1 [==============================] - 0s 17ms/step\n",
      "1/1 [==============================] - 0s 16ms/step\n",
      "1/1 [==============================] - 0s 14ms/step\n",
      "1/1 [==============================] - 0s 14ms/step\n",
      "1/1 [==============================] - 0s 13ms/step\n"
     ]
    }
   ],
   "source": [
    "##Forecasting: Generamos el pronóstico hacia adelante acorde el modelo entrenado, a partir de la última fecha. en este caso generaremos 10 observaciones futuras y finalmente anexaremos las fechas correspondientes.\n",
    "close_data = close_data.reshape((-1))\n",
    "\n",
    "def predict(num_prediction, model):\n",
    "    prediction_list = close_data[-n_back:]\n",
    "    \n",
    "    for _ in range(num_prediction):\n",
    "        x = prediction_list[-n_back:]\n",
    "        x = x.reshape((1, n_back, 1))\n",
    "        out = model.predict(x)[0][0]\n",
    "        prediction_list = np.append(prediction_list, out)\n",
    "    prediction_list = prediction_list[n_back-1:]\n",
    "        \n",
    "    return prediction_list\n",
    "    \n",
    "def predict_dates(num_prediction):\n",
    "    last_date = dataindex.max()  \n",
    "    prediction_dates = pd.date_range(last_date, periods=num_prediction+1).tolist()\n",
    "    return prediction_dates\n",
    "\n",
    "num_prediction = 10\n",
    "forecast = predict(num_prediction, model)\n",
    "forecast_dates = predict_dates(num_prediction)"
   ]
  },
  {
   "cell_type": "code",
   "execution_count": 85,
   "metadata": {},
   "outputs": [
    {
     "data": {
      "text/plain": [
       "[Timestamp('2018-01-26 00:00:00', freq='D'),\n",
       " Timestamp('2018-01-27 00:00:00', freq='D'),\n",
       " Timestamp('2018-01-28 00:00:00', freq='D'),\n",
       " Timestamp('2018-01-29 00:00:00', freq='D'),\n",
       " Timestamp('2018-01-30 00:00:00', freq='D'),\n",
       " Timestamp('2018-01-31 00:00:00', freq='D'),\n",
       " Timestamp('2018-02-01 00:00:00', freq='D'),\n",
       " Timestamp('2018-02-02 00:00:00', freq='D'),\n",
       " Timestamp('2018-02-03 00:00:00', freq='D'),\n",
       " Timestamp('2018-02-04 00:00:00', freq='D'),\n",
       " Timestamp('2018-02-05 00:00:00', freq='D')]"
      ]
     },
     "execution_count": 85,
     "metadata": {},
     "output_type": "execute_result"
    }
   ],
   "source": [
    "#Se observan las fechas hacia adelante\n",
    "forecast_dates"
   ]
  },
  {
   "cell_type": "code",
   "execution_count": 86,
   "metadata": {},
   "outputs": [
    {
     "data": {
      "application/vnd.plotly.v1+json": {
       "config": {
        "plotlyServerURL": "https://plot.ly"
       },
       "data": [
        {
         "mode": "lines",
         "name": "Data",
         "type": "scatter",
         "x": [
          "2016-05-02T00:00:00",
          "2016-05-03T00:00:00",
          "2016-05-04T00:00:00",
          "2016-05-05T00:00:00",
          "2016-05-06T00:00:00",
          "2016-05-09T00:00:00",
          "2016-05-10T00:00:00",
          "2016-05-11T00:00:00",
          "2016-05-12T00:00:00",
          "2016-05-13T00:00:00",
          "2016-05-16T00:00:00",
          "2016-05-17T00:00:00",
          "2016-05-18T00:00:00",
          "2016-05-19T00:00:00",
          "2016-05-20T00:00:00",
          "2016-05-23T00:00:00",
          "2016-05-24T00:00:00",
          "2016-05-25T00:00:00",
          "2016-05-26T00:00:00",
          "2016-05-27T00:00:00",
          "2016-05-31T00:00:00",
          "2016-06-01T00:00:00",
          "2016-06-02T00:00:00",
          "2016-06-03T00:00:00",
          "2016-06-06T00:00:00",
          "2016-06-07T00:00:00",
          "2016-06-08T00:00:00",
          "2016-06-09T00:00:00",
          "2016-06-10T00:00:00",
          "2016-06-13T00:00:00",
          "2016-06-14T00:00:00",
          "2016-06-15T00:00:00",
          "2016-06-16T00:00:00",
          "2016-06-17T00:00:00",
          "2016-06-20T00:00:00",
          "2016-06-21T00:00:00",
          "2016-06-22T00:00:00",
          "2016-06-23T00:00:00",
          "2016-06-24T00:00:00",
          "2016-06-27T00:00:00",
          "2016-06-28T00:00:00",
          "2016-06-29T00:00:00",
          "2016-06-30T00:00:00",
          "2016-07-01T00:00:00",
          "2016-07-05T00:00:00",
          "2016-07-06T00:00:00",
          "2016-07-07T00:00:00",
          "2016-07-08T00:00:00",
          "2016-07-11T00:00:00",
          "2016-07-12T00:00:00",
          "2016-07-13T00:00:00",
          "2016-07-14T00:00:00",
          "2016-07-15T00:00:00",
          "2016-07-18T00:00:00",
          "2016-07-19T00:00:00",
          "2016-07-20T00:00:00",
          "2016-07-21T00:00:00",
          "2016-07-22T00:00:00",
          "2016-07-25T00:00:00",
          "2016-07-26T00:00:00",
          "2016-07-27T00:00:00",
          "2016-07-28T00:00:00",
          "2016-07-29T00:00:00",
          "2016-08-01T00:00:00",
          "2016-08-02T00:00:00",
          "2016-08-03T00:00:00",
          "2016-08-04T00:00:00",
          "2016-08-05T00:00:00",
          "2016-08-08T00:00:00",
          "2016-08-09T00:00:00",
          "2016-08-10T00:00:00",
          "2016-08-11T00:00:00",
          "2016-08-12T00:00:00",
          "2016-08-15T00:00:00",
          "2016-08-16T00:00:00",
          "2016-08-17T00:00:00",
          "2016-08-18T00:00:00",
          "2016-08-19T00:00:00",
          "2016-08-22T00:00:00",
          "2016-08-23T00:00:00",
          "2016-08-24T00:00:00",
          "2016-08-25T00:00:00",
          "2016-08-26T00:00:00",
          "2016-08-29T00:00:00",
          "2016-08-30T00:00:00",
          "2016-08-31T00:00:00",
          "2016-09-01T00:00:00",
          "2016-09-02T00:00:00",
          "2016-09-06T00:00:00",
          "2016-09-07T00:00:00",
          "2016-09-08T00:00:00",
          "2016-09-09T00:00:00",
          "2016-09-12T00:00:00",
          "2016-09-13T00:00:00",
          "2016-09-14T00:00:00",
          "2016-09-15T00:00:00",
          "2016-09-16T00:00:00",
          "2016-09-19T00:00:00",
          "2016-09-20T00:00:00",
          "2016-09-21T00:00:00",
          "2016-09-22T00:00:00",
          "2016-09-23T00:00:00",
          "2016-09-26T00:00:00",
          "2016-09-27T00:00:00",
          "2016-09-28T00:00:00",
          "2016-09-29T00:00:00",
          "2016-09-30T00:00:00",
          "2016-10-03T00:00:00",
          "2016-10-04T00:00:00",
          "2016-10-05T00:00:00",
          "2016-10-06T00:00:00",
          "2016-10-07T00:00:00",
          "2016-10-10T00:00:00",
          "2016-10-11T00:00:00",
          "2016-10-12T00:00:00",
          "2016-10-13T00:00:00",
          "2016-10-14T00:00:00",
          "2016-10-17T00:00:00",
          "2016-10-18T00:00:00",
          "2016-10-19T00:00:00",
          "2016-10-20T00:00:00",
          "2016-10-21T00:00:00",
          "2016-10-24T00:00:00",
          "2016-10-25T00:00:00",
          "2016-10-26T00:00:00",
          "2016-10-27T00:00:00",
          "2016-10-28T00:00:00",
          "2016-10-31T00:00:00",
          "2016-11-01T00:00:00",
          "2016-11-02T00:00:00",
          "2016-11-03T00:00:00",
          "2016-11-04T00:00:00",
          "2016-11-07T00:00:00",
          "2016-11-08T00:00:00",
          "2016-11-09T00:00:00",
          "2016-11-10T00:00:00",
          "2016-11-11T00:00:00",
          "2016-11-14T00:00:00",
          "2016-11-15T00:00:00",
          "2016-11-16T00:00:00",
          "2016-11-17T00:00:00",
          "2016-11-18T00:00:00",
          "2016-11-21T00:00:00",
          "2016-11-22T00:00:00",
          "2016-11-23T00:00:00",
          "2016-11-25T00:00:00",
          "2016-11-28T00:00:00",
          "2016-11-29T00:00:00",
          "2016-11-30T00:00:00",
          "2016-12-01T00:00:00",
          "2016-12-02T00:00:00",
          "2016-12-05T00:00:00",
          "2016-12-06T00:00:00",
          "2016-12-07T00:00:00",
          "2016-12-08T00:00:00",
          "2016-12-09T00:00:00",
          "2016-12-12T00:00:00",
          "2016-12-13T00:00:00",
          "2016-12-14T00:00:00",
          "2016-12-15T00:00:00",
          "2016-12-16T00:00:00",
          "2016-12-19T00:00:00",
          "2016-12-20T00:00:00",
          "2016-12-21T00:00:00",
          "2016-12-22T00:00:00",
          "2016-12-23T00:00:00",
          "2016-12-27T00:00:00",
          "2016-12-28T00:00:00",
          "2016-12-29T00:00:00",
          "2016-12-30T00:00:00",
          "2017-01-03T00:00:00",
          "2017-01-04T00:00:00",
          "2017-01-05T00:00:00",
          "2017-01-06T00:00:00",
          "2017-01-09T00:00:00",
          "2017-01-10T00:00:00",
          "2017-01-11T00:00:00",
          "2017-01-12T00:00:00",
          "2017-01-13T00:00:00",
          "2017-01-17T00:00:00",
          "2017-01-18T00:00:00",
          "2017-01-19T00:00:00",
          "2017-01-20T00:00:00",
          "2017-01-23T00:00:00",
          "2017-01-24T00:00:00",
          "2017-01-25T00:00:00",
          "2017-01-26T00:00:00",
          "2017-01-27T00:00:00",
          "2017-01-30T00:00:00",
          "2017-01-31T00:00:00",
          "2017-02-01T00:00:00",
          "2017-02-02T00:00:00",
          "2017-02-03T00:00:00",
          "2017-02-06T00:00:00",
          "2017-02-07T00:00:00",
          "2017-02-08T00:00:00",
          "2017-02-09T00:00:00",
          "2017-02-10T00:00:00",
          "2017-02-13T00:00:00",
          "2017-02-14T00:00:00",
          "2017-02-15T00:00:00",
          "2017-02-16T00:00:00",
          "2017-02-17T00:00:00",
          "2017-02-21T00:00:00",
          "2017-02-22T00:00:00",
          "2017-02-23T00:00:00",
          "2017-02-24T00:00:00",
          "2017-02-27T00:00:00",
          "2017-02-28T00:00:00",
          "2017-03-01T00:00:00",
          "2017-03-02T00:00:00",
          "2017-03-03T00:00:00",
          "2017-03-06T00:00:00",
          "2017-03-07T00:00:00",
          "2017-03-08T00:00:00",
          "2017-03-09T00:00:00",
          "2017-03-10T00:00:00",
          "2017-03-13T00:00:00",
          "2017-03-14T00:00:00",
          "2017-03-15T00:00:00",
          "2017-03-16T00:00:00",
          "2017-03-17T00:00:00",
          "2017-03-20T00:00:00",
          "2017-03-21T00:00:00",
          "2017-03-22T00:00:00",
          "2017-03-23T00:00:00",
          "2017-03-24T00:00:00",
          "2017-03-27T00:00:00",
          "2017-03-28T00:00:00",
          "2017-03-29T00:00:00",
          "2017-03-30T00:00:00",
          "2017-03-31T00:00:00",
          "2017-04-03T00:00:00",
          "2017-04-04T00:00:00",
          "2017-04-05T00:00:00",
          "2017-04-06T00:00:00",
          "2017-04-07T00:00:00",
          "2017-04-10T00:00:00",
          "2017-04-11T00:00:00",
          "2017-04-12T00:00:00",
          "2017-04-13T00:00:00",
          "2017-04-17T00:00:00",
          "2017-04-18T00:00:00",
          "2017-04-19T00:00:00",
          "2017-04-20T00:00:00",
          "2017-04-21T00:00:00",
          "2017-04-24T00:00:00",
          "2017-04-25T00:00:00",
          "2017-04-26T00:00:00",
          "2017-04-27T00:00:00",
          "2017-04-28T00:00:00",
          "2017-05-01T00:00:00",
          "2017-05-02T00:00:00",
          "2017-05-03T00:00:00",
          "2017-05-04T00:00:00",
          "2017-05-05T00:00:00",
          "2017-05-08T00:00:00",
          "2017-05-09T00:00:00",
          "2017-05-10T00:00:00",
          "2017-05-11T00:00:00",
          "2017-05-12T00:00:00",
          "2017-05-15T00:00:00",
          "2017-05-16T00:00:00",
          "2017-05-17T00:00:00",
          "2017-05-18T00:00:00",
          "2017-05-19T00:00:00",
          "2017-05-22T00:00:00",
          "2017-05-23T00:00:00",
          "2017-05-24T00:00:00",
          "2017-05-25T00:00:00",
          "2017-05-26T00:00:00",
          "2017-05-30T00:00:00",
          "2017-05-31T00:00:00",
          "2017-06-01T00:00:00",
          "2017-06-02T00:00:00",
          "2017-06-05T00:00:00",
          "2017-06-06T00:00:00",
          "2017-06-07T00:00:00",
          "2017-06-08T00:00:00",
          "2017-06-09T00:00:00",
          "2017-06-12T00:00:00",
          "2017-06-13T00:00:00",
          "2017-06-14T00:00:00",
          "2017-06-15T00:00:00",
          "2017-06-16T00:00:00",
          "2017-06-19T00:00:00",
          "2017-06-20T00:00:00",
          "2017-06-21T00:00:00",
          "2017-06-22T00:00:00",
          "2017-06-23T00:00:00",
          "2017-06-26T00:00:00",
          "2017-06-27T00:00:00",
          "2017-06-28T00:00:00",
          "2017-06-29T00:00:00",
          "2017-06-30T00:00:00",
          "2017-07-03T00:00:00",
          "2017-07-05T00:00:00",
          "2017-07-06T00:00:00",
          "2017-07-07T00:00:00",
          "2017-07-10T00:00:00",
          "2017-07-11T00:00:00",
          "2017-07-12T00:00:00",
          "2017-07-13T00:00:00",
          "2017-07-14T00:00:00",
          "2017-07-17T00:00:00",
          "2017-07-18T00:00:00",
          "2017-07-19T00:00:00",
          "2017-07-20T00:00:00",
          "2017-07-21T00:00:00",
          "2017-07-24T00:00:00",
          "2017-07-25T00:00:00",
          "2017-07-26T00:00:00",
          "2017-07-27T00:00:00",
          "2017-07-28T00:00:00",
          "2017-07-31T00:00:00",
          "2017-08-01T00:00:00",
          "2017-08-02T00:00:00",
          "2017-08-03T00:00:00",
          "2017-08-04T00:00:00",
          "2017-08-07T00:00:00",
          "2017-08-08T00:00:00",
          "2017-08-09T00:00:00",
          "2017-08-10T00:00:00",
          "2017-08-11T00:00:00",
          "2017-08-14T00:00:00",
          "2017-08-15T00:00:00",
          "2017-08-16T00:00:00",
          "2017-08-17T00:00:00",
          "2017-08-18T00:00:00",
          "2017-08-21T00:00:00",
          "2017-08-22T00:00:00",
          "2017-08-23T00:00:00",
          "2017-08-24T00:00:00",
          "2017-08-25T00:00:00",
          "2017-08-28T00:00:00",
          "2017-08-29T00:00:00",
          "2017-08-30T00:00:00",
          "2017-08-31T00:00:00",
          "2017-09-01T00:00:00",
          "2017-09-05T00:00:00",
          "2017-09-06T00:00:00",
          "2017-09-07T00:00:00",
          "2017-09-08T00:00:00",
          "2017-09-11T00:00:00",
          "2017-09-12T00:00:00",
          "2017-09-13T00:00:00",
          "2017-09-14T00:00:00",
          "2017-09-15T00:00:00",
          "2017-09-18T00:00:00",
          "2017-09-19T00:00:00",
          "2017-09-20T00:00:00",
          "2017-09-21T00:00:00",
          "2017-09-22T00:00:00",
          "2017-09-25T00:00:00",
          "2017-09-26T00:00:00",
          "2017-09-27T00:00:00",
          "2017-09-28T00:00:00",
          "2017-09-29T00:00:00",
          "2017-10-02T00:00:00",
          "2017-10-03T00:00:00",
          "2017-10-04T00:00:00",
          "2017-10-05T00:00:00",
          "2017-10-06T00:00:00",
          "2017-10-09T00:00:00",
          "2017-10-10T00:00:00",
          "2017-10-11T00:00:00",
          "2017-10-12T00:00:00",
          "2017-10-13T00:00:00",
          "2017-10-16T00:00:00",
          "2017-10-17T00:00:00",
          "2017-10-18T00:00:00",
          "2017-10-19T00:00:00",
          "2017-10-20T00:00:00",
          "2017-10-23T00:00:00",
          "2017-10-24T00:00:00",
          "2017-10-25T00:00:00",
          "2017-10-26T00:00:00",
          "2017-10-27T00:00:00",
          "2017-10-30T00:00:00",
          "2017-10-31T00:00:00",
          "2017-11-01T00:00:00",
          "2017-11-02T00:00:00",
          "2017-11-03T00:00:00",
          "2017-11-06T00:00:00",
          "2017-11-07T00:00:00",
          "2017-11-08T00:00:00",
          "2017-11-09T00:00:00",
          "2017-11-10T00:00:00",
          "2017-11-13T00:00:00",
          "2017-11-14T00:00:00",
          "2017-11-15T00:00:00",
          "2017-11-16T00:00:00",
          "2017-11-17T00:00:00",
          "2017-11-20T00:00:00",
          "2017-11-21T00:00:00",
          "2017-11-22T00:00:00",
          "2017-11-24T00:00:00",
          "2017-11-27T00:00:00",
          "2017-11-28T00:00:00",
          "2017-11-29T00:00:00",
          "2017-11-30T00:00:00",
          "2017-12-01T00:00:00",
          "2017-12-04T00:00:00",
          "2017-12-05T00:00:00",
          "2017-12-06T00:00:00",
          "2017-12-07T00:00:00",
          "2017-12-08T00:00:00",
          "2017-12-11T00:00:00",
          "2017-12-12T00:00:00",
          "2017-12-13T00:00:00",
          "2017-12-14T00:00:00",
          "2017-12-15T00:00:00",
          "2017-12-18T00:00:00",
          "2017-12-19T00:00:00",
          "2017-12-20T00:00:00",
          "2017-12-21T00:00:00",
          "2017-12-22T00:00:00"
         ],
         "y": [
          118.56999969482422,
          117.43000030517578,
          118.05999755859375,
          117.80999755859375,
          119.48999786376953,
          119.23999786376953,
          120.5,
          119.5199966430664,
          120.27999877929688,
          119.80999755859375,
          118.66999816894531,
          117.3499984741211,
          117.6500015258789,
          116.80999755859375,
          117.3499984741211,
          115.97000122070312,
          117.69999694824219,
          117.88999938964844,
          119.47000122070312,
          119.37999725341797,
          118.80999755859375,
          118.77999877929688,
          118.93000030517578,
          118.47000122070312,
          118.79000091552734,
          117.76000213623047,
          118.38999938964844,
          118.55999755859375,
          116.62000274658203,
          113.94999694824219,
          114.94000244140625,
          114.5999984741211,
          114.38999938964844,
          113.0199966430664,
          113.37000274658203,
          114.37999725341797,
          113.91000366210938,
          115.08000183105469,
          112.08000183105469,
          108.97000122070312,
          112.69999694824219,
          114.16000366210938,
          114.27999877929688,
          114.19000244140625,
          114.19999694824219,
          116.69999694824219,
          115.8499984741211,
          117.23999786376953,
          117.87000274658203,
          117.93000030517578,
          116.77999877929688,
          117.29000091552734,
          116.86000061035156,
          119.37000274658203,
          120.61000061035156,
          121.91999816894531,
          120.61000061035156,
          121,
          121.62999725341797,
          121.22000122070312,
          123.33999633789062,
          125,
          123.94000244140625,
          124.30999755859375,
          123.08999633789062,
          122.51000213623047,
          124.36000061035156,
          125.1500015258789,
          125.26000213623047,
          125.05999755859375,
          124.87999725341797,
          124.9000015258789,
          124.87999725341797,
          123.9000015258789,
          123.30000305175781,
          124.37000274658203,
          123.91000366210938,
          123.55999755859375,
          124.1500015258789,
          124.37000274658203,
          123.4800033569336,
          123.88999938964844,
          124.95999908447266,
          126.54000091552734,
          125.83999633789062,
          126.12000274658203,
          126.16999816894531,
          126.51000213623047,
          129.72999572753906,
          131.0500030517578,
          130.27000427246094,
          127.0999984741211,
          128.69000244140625,
          127.20999908447266,
          127.7699966430664,
          128.35000610351562,
          129.07000732421875,
          128.64999389648438,
          128.63999938964844,
          129.94000244140625,
          130.0800018310547,
          127.95999908447266,
          127.30999755859375,
          128.69000244140625,
          129.22999572753906,
          128.08999633789062,
          128.27000427246094,
          128.77000427246094,
          128.19000244140625,
          128.47000122070312,
          128.74000549316406,
          128.99000549316406,
          130.24000549316406,
          128.8800048828125,
          129.0500030517578,
          127.81999969482422,
          127.87999725341797,
          127.54000091552734,
          128.57000732421875,
          130.11000061035156,
          130,
          132.07000732421875,
          133.27999877929688,
          132.2899932861328,
          131.0399932861328,
          129.69000244140625,
          131.2899932861328,
          130.99000549316406,
          129.5,
          127.16999816894531,
          120,
          120.75,
          122.1500015258789,
          124.22000122070312,
          123.18000030517578,
          120.80000305175781,
          119.0199966430664,
          115.08000183105469,
          117.19999694824219,
          116.33999633789062,
          117.79000091552734,
          117.0199966430664,
          121.7699966430664,
          121.47000122070312,
          120.83999633789062,
          120.37999725341797,
          120.41000366210938,
          120.87000274658203,
          118.41999816894531,
          115.0999984741211,
          115.4000015258789,
          117.43000030517578,
          117.30999755859375,
          117.94999694824219,
          118.91000366210938,
          119.68000030517578,
          117.7699966430664,
          120.30999755859375,
          120.20999908447266,
          120.56999969482422,
          119.87000274658203,
          119.23999786376953,
          119.08999633789062,
          119.04000091552734,
          117.4000015258789,
          117.2699966430664,
          118.01000213623047,
          116.91999816894531,
          116.3499984741211,
          115.05000305175781,
          116.86000061035156,
          118.69000244140625,
          120.66999816894531,
          123.41000366210938,
          124.9000015258789,
          124.3499984741211,
          126.08999633789062,
          126.62000274658203,
          128.33999633789062,
          127.87000274658203,
          127.91999816894531,
          127.55000305175781,
          127.04000091552734,
          128.92999267578125,
          129.3699951171875,
          131.47999572753906,
          132.77999877929688,
          132.17999267578125,
          130.97999572753906,
          130.32000732421875,
          133.22999572753906,
          130.83999633789062,
          130.97999572753906,
          132.05999755859375,
          131.83999633789062,
          134.1999969482422,
          134.13999938964844,
          134.19000244140625,
          134.0500030517578,
          133.85000610351562,
          133.44000244140625,
          133.83999633789062,
          133.52999877929688,
          133.72000122070312,
          136.1199951171875,
          135.36000061035156,
          135.44000244140625,
          136.41000366210938,
          135.5399932861328,
          137.4199981689453,
          136.75999450683594,
          137.1699981689453,
          137.4199981689453,
          137.3000030517578,
          137.72000122070312,
          138.24000549316406,
          138.7899932861328,
          139.60000610351562,
          139.32000732421875,
          139.72000122070312,
          139.99000549316406,
          139.83999633789062,
          139.94000244140625,
          138.50999450683594,
          139.58999633789062,
          139.52999877929688,
          140.33999633789062,
          140.32000732421875,
          141.75999450683594,
          142.64999389648438,
          142.41000366210938,
          142.0500030517578,
          142.27999877929688,
          141.72999572753906,
          141.85000610351562,
          141.1699981689453,
          140.77999877929688,
          141.0399932861328,
          139.9199981689453,
          139.5800018310547,
          139.38999938964844,
          141.4199981689453,
          140.9600067138672,
          142.27000427246094,
          143.8000030517578,
          143.67999267578125,
          145.47000122070312,
          146.49000549316406,
          146.55999755859375,
          147.6999969482422,
          150.25,
          152.4600067138672,
          152.77999877929688,
          151.8000030517578,
          150.85000610351562,
          150.24000549316406,
          151.05999755859375,
          150.47999572753906,
          150.2899932861328,
          150.0399932861328,
          150.3300018310547,
          150.19000244140625,
          149.77999877929688,
          144.85000610351562,
          147.66000366210938,
          148.05999755859375,
          148.24000549316406,
          148.07000732421875,
          150.0399932861328,
          151.9600067138672,
          152.1300048828125,
          152.3800048828125,
          151.4600067138672,
          151.52999877929688,
          153.61000061035156,
          153.6300048828125,
          152.80999755859375,
          153.1199951171875,
          154.7100067138672,
          149.60000610351562,
          148.44000244140625,
          150.67999267578125,
          150.25,
          149.8000030517578,
          150.63999938964844,
          152.8699951171875,
          152.25,
          153.91000366210938,
          153.39999389648438,
          155.07000732421875,
          153.58999633789062,
          150.5800018310547,
          153.24000549316406,
          151.0399932861328,
          150.97999572753906,
          148.42999267578125,
          150.33999633789062,
          148.82000732421875,
          151.44000244140625,
          153.5,
          155.27000427246094,
          158.89999389648438,
          159.25999450683594,
          159.97000122070312,
          159.72999572753906,
          162.86000061035156,
          164.13999938964844,
          164.52999877929688,
          164.42999267578125,
          166,
          165.27999877929688,
          165.61000061035156,
          170.44000244140625,
          172.4499969482422,
          169.25,
          169.86000061035156,
          169.3000030517578,
          168.58999633789062,
          169.6199951171875,
          171.97999572753906,
          171.22999572753906,
          171.17999267578125,
          167.39999389648438,
          168.0800018310547,
          170.75,
          171,
          170,
          166.91000366210938,
          167.41000366210938,
          167.77999877929688,
          169.63999938964844,
          168.7100067138672,
          167.74000549316406,
          166.32000732421875,
          167.24000549316406,
          168.0500030517578,
          169.9199981689453,
          171.97000122070312,
          172.02000427246094,
          170.72000122070312,
          172.08999633789062,
          173.2100067138672,
          170.9499969482422,
          173.50999450683594,
          172.9600067138672,
          173.0500030517578,
          170.9600067138672,
          171.63999938964844,
          170.00999450683594,
          172.52000427246094,
          172.1699981689453,
          171.11000061035156,
          170.5399932861328,
          162.8699951171875,
          164.2100067138672,
          167.67999267578125,
          168.72999572753906,
          170.8699951171875,
          169.47000122070312,
          169.9600067138672,
          168.4199981689453,
          171.24000549316406,
          172.22999572753906,
          172.5,
          171.58999633789062,
          172.74000549316406,
          172.5500030517578,
          173.74000549316406,
          174.52000427246094,
          176.11000061035156,
          176.02999877929688,
          174.55999755859375,
          174.97999572753906,
          171.27000427246094,
          171.8000030517578,
          170.60000610351562,
          170.6300048828125,
          177.8800048828125,
          179.8699951171875,
          180.05999755859375,
          182.66000366210938,
          178.9199981689453,
          178.9199981689453,
          180.1699981689453,
          180.25,
          179.55999755859375,
          179.3000030517578,
          178.4600067138672,
          178.77000427246094,
          178.07000732421875,
          177.9499969482422,
          179.58999633789062,
          179,
          178.74000549316406,
          181.86000061035156,
          180.8699951171875,
          182.77999877929688,
          183.02999877929688,
          182.4199981689453,
          175.1300048828125,
          177.17999267578125,
          175.10000610351562,
          171.47000122070312,
          172.8300018310547,
          176.05999755859375,
          180.13999938964844,
          179,
          179.0399932861328,
          176.9600067138672,
          178.3000030517578,
          178.38999938964844,
          180.17999267578125,
          180.82000732421875,
          179.50999450683594,
          177.88999938964844,
          177.4499969482422,
          177.1999969482422
         ]
        },
        {
         "mode": "lines",
         "name": "Prediction",
         "type": "scatter",
         "x": [
          "2017-12-26T00:00:00",
          "2017-12-27T00:00:00",
          "2017-12-28T00:00:00",
          "2017-12-29T00:00:00",
          "2018-01-02T00:00:00",
          "2018-01-03T00:00:00",
          "2018-01-04T00:00:00",
          "2018-01-05T00:00:00",
          "2018-01-08T00:00:00",
          "2018-01-09T00:00:00",
          "2018-01-10T00:00:00",
          "2018-01-11T00:00:00",
          "2018-01-12T00:00:00",
          "2018-01-16T00:00:00",
          "2018-01-17T00:00:00",
          "2018-01-18T00:00:00",
          "2018-01-19T00:00:00",
          "2018-01-22T00:00:00",
          "2018-01-23T00:00:00",
          "2018-01-24T00:00:00",
          "2018-01-25T00:00:00",
          "2018-01-26T00:00:00"
         ],
         "y": [
          182.09909,
          183.38013,
          184.51906,
          185.00534,
          185.73688,
          185.6554,
          185.09909,
          183.90211,
          183.21417,
          182.97488,
          182.99202,
          183.33124
         ]
        },
        {
         "mode": "lines",
         "name": "Reality",
         "type": "scatter",
         "x": [
          "2017-12-26T00:00:00",
          "2017-12-27T00:00:00",
          "2017-12-28T00:00:00",
          "2017-12-29T00:00:00",
          "2018-01-02T00:00:00",
          "2018-01-03T00:00:00",
          "2018-01-04T00:00:00",
          "2018-01-05T00:00:00",
          "2018-01-08T00:00:00",
          "2018-01-09T00:00:00",
          "2018-01-10T00:00:00",
          "2018-01-11T00:00:00",
          "2018-01-12T00:00:00",
          "2018-01-16T00:00:00",
          "2018-01-17T00:00:00",
          "2018-01-18T00:00:00",
          "2018-01-19T00:00:00",
          "2018-01-22T00:00:00",
          "2018-01-23T00:00:00",
          "2018-01-24T00:00:00",
          "2018-01-25T00:00:00",
          "2018-01-26T00:00:00"
         ],
         "y": [
          175.99000549316406,
          177.6199951171875,
          177.9199981689453,
          176.4600067138672,
          181.4199981689453,
          184.6699981689453,
          184.3300018310547,
          186.85000610351562,
          188.27999877929688,
          187.8699951171875,
          187.83999633789062,
          187.77000427246094,
          179.3699951171875,
          178.38999938964844,
          177.60000610351562,
          179.8000030517578,
          181.2899932861328,
          185.3699951171875,
          189.35000610351562,
          186.5500030517578,
          187.47999572753906,
          190
         ]
        },
        {
         "mode": "lines",
         "name": "FWD Forecast",
         "type": "scatter",
         "x": [
          "2018-01-26T00:00:00",
          "2018-01-27T00:00:00",
          "2018-01-28T00:00:00",
          "2018-01-29T00:00:00",
          "2018-01-30T00:00:00",
          "2018-01-31T00:00:00",
          "2018-02-01T00:00:00",
          "2018-02-02T00:00:00",
          "2018-02-03T00:00:00",
          "2018-02-04T00:00:00",
          "2018-02-05T00:00:00"
         ],
         "y": [
          190,
          183.55722045898438,
          184.2515411376953,
          185.01065063476562,
          185.9403533935547,
          186.6420135498047,
          186.85116577148438,
          186.8040008544922,
          186.47621154785156,
          186.6595458984375,
          186.7738800048828
         ]
        }
       ],
       "layout": {
        "template": {
         "data": {
          "bar": [
           {
            "error_x": {
             "color": "#2a3f5f"
            },
            "error_y": {
             "color": "#2a3f5f"
            },
            "marker": {
             "line": {
              "color": "#E5ECF6",
              "width": 0.5
             },
             "pattern": {
              "fillmode": "overlay",
              "size": 10,
              "solidity": 0.2
             }
            },
            "type": "bar"
           }
          ],
          "barpolar": [
           {
            "marker": {
             "line": {
              "color": "#E5ECF6",
              "width": 0.5
             },
             "pattern": {
              "fillmode": "overlay",
              "size": 10,
              "solidity": 0.2
             }
            },
            "type": "barpolar"
           }
          ],
          "carpet": [
           {
            "aaxis": {
             "endlinecolor": "#2a3f5f",
             "gridcolor": "white",
             "linecolor": "white",
             "minorgridcolor": "white",
             "startlinecolor": "#2a3f5f"
            },
            "baxis": {
             "endlinecolor": "#2a3f5f",
             "gridcolor": "white",
             "linecolor": "white",
             "minorgridcolor": "white",
             "startlinecolor": "#2a3f5f"
            },
            "type": "carpet"
           }
          ],
          "choropleth": [
           {
            "colorbar": {
             "outlinewidth": 0,
             "ticks": ""
            },
            "type": "choropleth"
           }
          ],
          "contour": [
           {
            "colorbar": {
             "outlinewidth": 0,
             "ticks": ""
            },
            "colorscale": [
             [
              0,
              "#0d0887"
             ],
             [
              0.1111111111111111,
              "#46039f"
             ],
             [
              0.2222222222222222,
              "#7201a8"
             ],
             [
              0.3333333333333333,
              "#9c179e"
             ],
             [
              0.4444444444444444,
              "#bd3786"
             ],
             [
              0.5555555555555556,
              "#d8576b"
             ],
             [
              0.6666666666666666,
              "#ed7953"
             ],
             [
              0.7777777777777778,
              "#fb9f3a"
             ],
             [
              0.8888888888888888,
              "#fdca26"
             ],
             [
              1,
              "#f0f921"
             ]
            ],
            "type": "contour"
           }
          ],
          "contourcarpet": [
           {
            "colorbar": {
             "outlinewidth": 0,
             "ticks": ""
            },
            "type": "contourcarpet"
           }
          ],
          "heatmap": [
           {
            "colorbar": {
             "outlinewidth": 0,
             "ticks": ""
            },
            "colorscale": [
             [
              0,
              "#0d0887"
             ],
             [
              0.1111111111111111,
              "#46039f"
             ],
             [
              0.2222222222222222,
              "#7201a8"
             ],
             [
              0.3333333333333333,
              "#9c179e"
             ],
             [
              0.4444444444444444,
              "#bd3786"
             ],
             [
              0.5555555555555556,
              "#d8576b"
             ],
             [
              0.6666666666666666,
              "#ed7953"
             ],
             [
              0.7777777777777778,
              "#fb9f3a"
             ],
             [
              0.8888888888888888,
              "#fdca26"
             ],
             [
              1,
              "#f0f921"
             ]
            ],
            "type": "heatmap"
           }
          ],
          "heatmapgl": [
           {
            "colorbar": {
             "outlinewidth": 0,
             "ticks": ""
            },
            "colorscale": [
             [
              0,
              "#0d0887"
             ],
             [
              0.1111111111111111,
              "#46039f"
             ],
             [
              0.2222222222222222,
              "#7201a8"
             ],
             [
              0.3333333333333333,
              "#9c179e"
             ],
             [
              0.4444444444444444,
              "#bd3786"
             ],
             [
              0.5555555555555556,
              "#d8576b"
             ],
             [
              0.6666666666666666,
              "#ed7953"
             ],
             [
              0.7777777777777778,
              "#fb9f3a"
             ],
             [
              0.8888888888888888,
              "#fdca26"
             ],
             [
              1,
              "#f0f921"
             ]
            ],
            "type": "heatmapgl"
           }
          ],
          "histogram": [
           {
            "marker": {
             "pattern": {
              "fillmode": "overlay",
              "size": 10,
              "solidity": 0.2
             }
            },
            "type": "histogram"
           }
          ],
          "histogram2d": [
           {
            "colorbar": {
             "outlinewidth": 0,
             "ticks": ""
            },
            "colorscale": [
             [
              0,
              "#0d0887"
             ],
             [
              0.1111111111111111,
              "#46039f"
             ],
             [
              0.2222222222222222,
              "#7201a8"
             ],
             [
              0.3333333333333333,
              "#9c179e"
             ],
             [
              0.4444444444444444,
              "#bd3786"
             ],
             [
              0.5555555555555556,
              "#d8576b"
             ],
             [
              0.6666666666666666,
              "#ed7953"
             ],
             [
              0.7777777777777778,
              "#fb9f3a"
             ],
             [
              0.8888888888888888,
              "#fdca26"
             ],
             [
              1,
              "#f0f921"
             ]
            ],
            "type": "histogram2d"
           }
          ],
          "histogram2dcontour": [
           {
            "colorbar": {
             "outlinewidth": 0,
             "ticks": ""
            },
            "colorscale": [
             [
              0,
              "#0d0887"
             ],
             [
              0.1111111111111111,
              "#46039f"
             ],
             [
              0.2222222222222222,
              "#7201a8"
             ],
             [
              0.3333333333333333,
              "#9c179e"
             ],
             [
              0.4444444444444444,
              "#bd3786"
             ],
             [
              0.5555555555555556,
              "#d8576b"
             ],
             [
              0.6666666666666666,
              "#ed7953"
             ],
             [
              0.7777777777777778,
              "#fb9f3a"
             ],
             [
              0.8888888888888888,
              "#fdca26"
             ],
             [
              1,
              "#f0f921"
             ]
            ],
            "type": "histogram2dcontour"
           }
          ],
          "mesh3d": [
           {
            "colorbar": {
             "outlinewidth": 0,
             "ticks": ""
            },
            "type": "mesh3d"
           }
          ],
          "parcoords": [
           {
            "line": {
             "colorbar": {
              "outlinewidth": 0,
              "ticks": ""
             }
            },
            "type": "parcoords"
           }
          ],
          "pie": [
           {
            "automargin": true,
            "type": "pie"
           }
          ],
          "scatter": [
           {
            "marker": {
             "colorbar": {
              "outlinewidth": 0,
              "ticks": ""
             }
            },
            "type": "scatter"
           }
          ],
          "scatter3d": [
           {
            "line": {
             "colorbar": {
              "outlinewidth": 0,
              "ticks": ""
             }
            },
            "marker": {
             "colorbar": {
              "outlinewidth": 0,
              "ticks": ""
             }
            },
            "type": "scatter3d"
           }
          ],
          "scattercarpet": [
           {
            "marker": {
             "colorbar": {
              "outlinewidth": 0,
              "ticks": ""
             }
            },
            "type": "scattercarpet"
           }
          ],
          "scattergeo": [
           {
            "marker": {
             "colorbar": {
              "outlinewidth": 0,
              "ticks": ""
             }
            },
            "type": "scattergeo"
           }
          ],
          "scattergl": [
           {
            "marker": {
             "colorbar": {
              "outlinewidth": 0,
              "ticks": ""
             }
            },
            "type": "scattergl"
           }
          ],
          "scattermapbox": [
           {
            "marker": {
             "colorbar": {
              "outlinewidth": 0,
              "ticks": ""
             }
            },
            "type": "scattermapbox"
           }
          ],
          "scatterpolar": [
           {
            "marker": {
             "colorbar": {
              "outlinewidth": 0,
              "ticks": ""
             }
            },
            "type": "scatterpolar"
           }
          ],
          "scatterpolargl": [
           {
            "marker": {
             "colorbar": {
              "outlinewidth": 0,
              "ticks": ""
             }
            },
            "type": "scatterpolargl"
           }
          ],
          "scatterternary": [
           {
            "marker": {
             "colorbar": {
              "outlinewidth": 0,
              "ticks": ""
             }
            },
            "type": "scatterternary"
           }
          ],
          "surface": [
           {
            "colorbar": {
             "outlinewidth": 0,
             "ticks": ""
            },
            "colorscale": [
             [
              0,
              "#0d0887"
             ],
             [
              0.1111111111111111,
              "#46039f"
             ],
             [
              0.2222222222222222,
              "#7201a8"
             ],
             [
              0.3333333333333333,
              "#9c179e"
             ],
             [
              0.4444444444444444,
              "#bd3786"
             ],
             [
              0.5555555555555556,
              "#d8576b"
             ],
             [
              0.6666666666666666,
              "#ed7953"
             ],
             [
              0.7777777777777778,
              "#fb9f3a"
             ],
             [
              0.8888888888888888,
              "#fdca26"
             ],
             [
              1,
              "#f0f921"
             ]
            ],
            "type": "surface"
           }
          ],
          "table": [
           {
            "cells": {
             "fill": {
              "color": "#EBF0F8"
             },
             "line": {
              "color": "white"
             }
            },
            "header": {
             "fill": {
              "color": "#C8D4E3"
             },
             "line": {
              "color": "white"
             }
            },
            "type": "table"
           }
          ]
         },
         "layout": {
          "annotationdefaults": {
           "arrowcolor": "#2a3f5f",
           "arrowhead": 0,
           "arrowwidth": 1
          },
          "autotypenumbers": "strict",
          "coloraxis": {
           "colorbar": {
            "outlinewidth": 0,
            "ticks": ""
           }
          },
          "colorscale": {
           "diverging": [
            [
             0,
             "#8e0152"
            ],
            [
             0.1,
             "#c51b7d"
            ],
            [
             0.2,
             "#de77ae"
            ],
            [
             0.3,
             "#f1b6da"
            ],
            [
             0.4,
             "#fde0ef"
            ],
            [
             0.5,
             "#f7f7f7"
            ],
            [
             0.6,
             "#e6f5d0"
            ],
            [
             0.7,
             "#b8e186"
            ],
            [
             0.8,
             "#7fbc41"
            ],
            [
             0.9,
             "#4d9221"
            ],
            [
             1,
             "#276419"
            ]
           ],
           "sequential": [
            [
             0,
             "#0d0887"
            ],
            [
             0.1111111111111111,
             "#46039f"
            ],
            [
             0.2222222222222222,
             "#7201a8"
            ],
            [
             0.3333333333333333,
             "#9c179e"
            ],
            [
             0.4444444444444444,
             "#bd3786"
            ],
            [
             0.5555555555555556,
             "#d8576b"
            ],
            [
             0.6666666666666666,
             "#ed7953"
            ],
            [
             0.7777777777777778,
             "#fb9f3a"
            ],
            [
             0.8888888888888888,
             "#fdca26"
            ],
            [
             1,
             "#f0f921"
            ]
           ],
           "sequentialminus": [
            [
             0,
             "#0d0887"
            ],
            [
             0.1111111111111111,
             "#46039f"
            ],
            [
             0.2222222222222222,
             "#7201a8"
            ],
            [
             0.3333333333333333,
             "#9c179e"
            ],
            [
             0.4444444444444444,
             "#bd3786"
            ],
            [
             0.5555555555555556,
             "#d8576b"
            ],
            [
             0.6666666666666666,
             "#ed7953"
            ],
            [
             0.7777777777777778,
             "#fb9f3a"
            ],
            [
             0.8888888888888888,
             "#fdca26"
            ],
            [
             1,
             "#f0f921"
            ]
           ]
          },
          "colorway": [
           "#636efa",
           "#EF553B",
           "#00cc96",
           "#ab63fa",
           "#FFA15A",
           "#19d3f3",
           "#FF6692",
           "#B6E880",
           "#FF97FF",
           "#FECB52"
          ],
          "font": {
           "color": "#2a3f5f"
          },
          "geo": {
           "bgcolor": "white",
           "lakecolor": "white",
           "landcolor": "#E5ECF6",
           "showlakes": true,
           "showland": true,
           "subunitcolor": "white"
          },
          "hoverlabel": {
           "align": "left"
          },
          "hovermode": "closest",
          "mapbox": {
           "style": "light"
          },
          "paper_bgcolor": "white",
          "plot_bgcolor": "#E5ECF6",
          "polar": {
           "angularaxis": {
            "gridcolor": "white",
            "linecolor": "white",
            "ticks": ""
           },
           "bgcolor": "#E5ECF6",
           "radialaxis": {
            "gridcolor": "white",
            "linecolor": "white",
            "ticks": ""
           }
          },
          "scene": {
           "xaxis": {
            "backgroundcolor": "#E5ECF6",
            "gridcolor": "white",
            "gridwidth": 2,
            "linecolor": "white",
            "showbackground": true,
            "ticks": "",
            "zerolinecolor": "white"
           },
           "yaxis": {
            "backgroundcolor": "#E5ECF6",
            "gridcolor": "white",
            "gridwidth": 2,
            "linecolor": "white",
            "showbackground": true,
            "ticks": "",
            "zerolinecolor": "white"
           },
           "zaxis": {
            "backgroundcolor": "#E5ECF6",
            "gridcolor": "white",
            "gridwidth": 2,
            "linecolor": "white",
            "showbackground": true,
            "ticks": "",
            "zerolinecolor": "white"
           }
          },
          "shapedefaults": {
           "line": {
            "color": "#2a3f5f"
           }
          },
          "ternary": {
           "aaxis": {
            "gridcolor": "white",
            "linecolor": "white",
            "ticks": ""
           },
           "baxis": {
            "gridcolor": "white",
            "linecolor": "white",
            "ticks": ""
           },
           "bgcolor": "#E5ECF6",
           "caxis": {
            "gridcolor": "white",
            "linecolor": "white",
            "ticks": ""
           }
          },
          "title": {
           "x": 0.05
          },
          "xaxis": {
           "automargin": true,
           "gridcolor": "white",
           "linecolor": "white",
           "ticks": "",
           "title": {
            "standoff": 15
           },
           "zerolinecolor": "white",
           "zerolinewidth": 2
          },
          "yaxis": {
           "automargin": true,
           "gridcolor": "white",
           "linecolor": "white",
           "ticks": "",
           "title": {
            "standoff": 15
           },
           "zerolinecolor": "white",
           "zerolinewidth": 2
          }
         }
        },
        "title": {
         "text": "META Stock"
        },
        "xaxis": {
         "title": {
          "text": "Date"
         }
        },
        "yaxis": {
         "title": {
          "text": "Close"
         }
        }
       }
      }
     },
     "metadata": {},
     "output_type": "display_data"
    }
   ],
   "source": [
    "## Se visualiza el pronostico hacia adelante\n",
    "#Graficamos la serie anterior, aunando el valor del pronóstico.\n",
    "trace1 = go.Scatter(\n",
    "    x = date_train,\n",
    "    y = close_train,\n",
    "    mode = 'lines',\n",
    "    name = 'Data'\n",
    ")\n",
    "trace2 = go.Scatter(\n",
    "    x = date_test,\n",
    "    y = prediction,\n",
    "    mode = 'lines',\n",
    "    name = 'Prediction'\n",
    ")\n",
    "trace3 = go.Scatter(\n",
    "    x = date_test,\n",
    "    y = close_test,\n",
    "    mode='lines',\n",
    "    name = 'Reality'\n",
    ")\n",
    "trace4 = go.Scatter(\n",
    "    x = forecast_dates,\n",
    "    y = forecast,\n",
    "    mode='lines',\n",
    "    name = 'FWD Forecast'\n",
    ")\n",
    "\n",
    "layout = go.Layout(\n",
    "    title = \"META Stock\",\n",
    "    xaxis = {'title' : \"Date\"},\n",
    "    yaxis = {'title' : \"Close\"}\n",
    ")\n",
    "fig = go.Figure(data=[trace1, trace2, trace3, trace4], layout=layout)\n",
    "fig.show()"
   ]
  },
  {
   "cell_type": "code",
   "execution_count": null,
   "metadata": {},
   "outputs": [],
   "source": []
  }
 ],
 "metadata": {
  "kernelspec": {
   "display_name": "Financiero",
   "language": "python",
   "name": "python3"
  },
  "language_info": {
   "codemirror_mode": {
    "name": "ipython",
    "version": 3
   },
   "file_extension": ".py",
   "mimetype": "text/x-python",
   "name": "python",
   "nbconvert_exporter": "python",
   "pygments_lexer": "ipython3",
   "version": "3.9.18"
  }
 },
 "nbformat": 4,
 "nbformat_minor": 2
}
